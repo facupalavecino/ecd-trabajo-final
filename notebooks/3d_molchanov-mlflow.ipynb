{
 "cells": [
  {
   "attachments": {},
   "cell_type": "markdown",
   "metadata": {},
   "source": [
    "# 3D Molchanov - MLflow"
   ]
  },
  {
   "cell_type": "code",
   "execution_count": 1,
   "metadata": {},
   "outputs": [],
   "source": [
    "import logging\n",
    "logging.basicConfig(level=logging.INFO)\n",
    "logger = logging.getLogger(__name__)"
   ]
  },
  {
   "cell_type": "markdown",
   "metadata": {},
   "source": [
    "## Load Data"
   ]
  },
  {
   "cell_type": "code",
   "execution_count": 2,
   "metadata": {},
   "outputs": [],
   "source": [
    "from recognizer.utils.constants import ROOT_DIR, TARGET_TO_ENCODING\n",
    "from recognizer.utils.utils import get_metadata_from_filename\n",
    "\n",
    "DATASET_DIR_POSTA = ROOT_DIR / \"data\" / \"all-20percent\""
   ]
  },
  {
   "cell_type": "code",
   "execution_count": 3,
   "metadata": {},
   "outputs": [
    {
     "data": {
      "text/html": [
       "<div>\n",
       "<style scoped>\n",
       "    .dataframe tbody tr th:only-of-type {\n",
       "        vertical-align: middle;\n",
       "    }\n",
       "\n",
       "    .dataframe tbody tr th {\n",
       "        vertical-align: top;\n",
       "    }\n",
       "\n",
       "    .dataframe thead th {\n",
       "        text-align: right;\n",
       "    }\n",
       "</style>\n",
       "<table border=\"1\" class=\"dataframe\">\n",
       "  <thead>\n",
       "    <tr style=\"text-align: right;\">\n",
       "      <th></th>\n",
       "      <th>target</th>\n",
       "      <th>subject</th>\n",
       "      <th>repetition</th>\n",
       "      <th>file</th>\n",
       "      <th>target_encoding</th>\n",
       "    </tr>\n",
       "  </thead>\n",
       "  <tbody>\n",
       "    <tr>\n",
       "      <th>0</th>\n",
       "      <td>001</td>\n",
       "      <td>001</td>\n",
       "      <td>001</td>\n",
       "      <td>C:\\Users\\facun\\Desktop\\DEV\\ecd-trabajo-final\\d...</td>\n",
       "      <td>0</td>\n",
       "    </tr>\n",
       "    <tr>\n",
       "      <th>1</th>\n",
       "      <td>001</td>\n",
       "      <td>001</td>\n",
       "      <td>002</td>\n",
       "      <td>C:\\Users\\facun\\Desktop\\DEV\\ecd-trabajo-final\\d...</td>\n",
       "      <td>0</td>\n",
       "    </tr>\n",
       "    <tr>\n",
       "      <th>2</th>\n",
       "      <td>001</td>\n",
       "      <td>001</td>\n",
       "      <td>003</td>\n",
       "      <td>C:\\Users\\facun\\Desktop\\DEV\\ecd-trabajo-final\\d...</td>\n",
       "      <td>0</td>\n",
       "    </tr>\n",
       "    <tr>\n",
       "      <th>3</th>\n",
       "      <td>001</td>\n",
       "      <td>001</td>\n",
       "      <td>004</td>\n",
       "      <td>C:\\Users\\facun\\Desktop\\DEV\\ecd-trabajo-final\\d...</td>\n",
       "      <td>0</td>\n",
       "    </tr>\n",
       "    <tr>\n",
       "      <th>4</th>\n",
       "      <td>001</td>\n",
       "      <td>001</td>\n",
       "      <td>005</td>\n",
       "      <td>C:\\Users\\facun\\Desktop\\DEV\\ecd-trabajo-final\\d...</td>\n",
       "      <td>0</td>\n",
       "    </tr>\n",
       "  </tbody>\n",
       "</table>\n",
       "</div>"
      ],
      "text/plain": [
       "  target subject repetition  \\\n",
       "0    001     001        001   \n",
       "1    001     001        002   \n",
       "2    001     001        003   \n",
       "3    001     001        004   \n",
       "4    001     001        005   \n",
       "\n",
       "                                                file  target_encoding  \n",
       "0  C:\\Users\\facun\\Desktop\\DEV\\ecd-trabajo-final\\d...                0  \n",
       "1  C:\\Users\\facun\\Desktop\\DEV\\ecd-trabajo-final\\d...                0  \n",
       "2  C:\\Users\\facun\\Desktop\\DEV\\ecd-trabajo-final\\d...                0  \n",
       "3  C:\\Users\\facun\\Desktop\\DEV\\ecd-trabajo-final\\d...                0  \n",
       "4  C:\\Users\\facun\\Desktop\\DEV\\ecd-trabajo-final\\d...                0  "
      ]
     },
     "execution_count": 3,
     "metadata": {},
     "output_type": "execute_result"
    }
   ],
   "source": [
    "import os\n",
    "\n",
    "import pandas as pd\n",
    "\n",
    "targets = []\n",
    "subjects = []\n",
    "repetitions = []\n",
    "files = []\n",
    "\n",
    "for file in os.listdir(DATASET_DIR_POSTA):\n",
    "\n",
    "    target, subject, repetition = get_metadata_from_filename(file)\n",
    "\n",
    "    targets.append(target)\n",
    "    subjects.append(subject)\n",
    "    repetitions.append(repetition)\n",
    "    files.append(str((DATASET_DIR_POSTA / file).resolve()))\n",
    "\n",
    "\n",
    "metadata = pd.DataFrame(\n",
    "    data={\n",
    "        \"target\": targets,\n",
    "        \"subject\": subjects,\n",
    "        \"repetition\": repetitions,\n",
    "        \"file\": files,\n",
    "    }\n",
    ")\n",
    "\n",
    "metadata[\"target_encoding\"] = metadata[\"target\"].map(TARGET_TO_ENCODING)\n",
    "\n",
    "metadata.head()"
   ]
  },
  {
   "cell_type": "markdown",
   "metadata": {},
   "source": [
    "### Train/Test split"
   ]
  },
  {
   "cell_type": "code",
   "execution_count": 4,
   "metadata": {},
   "outputs": [],
   "source": [
    "import numpy as np\n",
    "\n",
    "size = 1\n",
    "replace = False\n",
    "fn = lambda obj: obj.loc[np.random.choice(obj.index, size, replace),:]\n",
    "\n",
    "testing_set = metadata.groupby([\"target\", \"subject\"], as_index=False).apply(fn)\n",
    "\n",
    "testing_set.index = testing_set.index.droplevel(0)\n",
    "\n",
    "training_set = metadata.loc[~metadata.index.isin(testing_set.index), :]"
   ]
  },
  {
   "cell_type": "markdown",
   "metadata": {},
   "source": [
    "### Pre-processing functions"
   ]
  },
  {
   "cell_type": "code",
   "execution_count": 5,
   "metadata": {},
   "outputs": [],
   "source": [
    "def transform(x):\n",
    "    \"\"\"Permutes the element to match the format expected by PyTorch: (C<channels>, T<frames>, H<height>, W<width>)\"\"\"\n",
    "    # Transpose video from (T<frames>, H<height>, W<width>, C<channels>) to (C<channels>, T<frames>, H<height>, W<width>)\n",
    "    return x.permute(3, 0, 1, 2).float()\n"
   ]
  },
  {
   "cell_type": "markdown",
   "metadata": {},
   "source": [
    "### Parameters"
   ]
  },
  {
   "cell_type": "code",
   "execution_count": 6,
   "metadata": {},
   "outputs": [],
   "source": [
    "BATCH_SIZE = 64\n",
    "NUM_CLASSES = 64\n",
    "NUM_FRAMES = 16\n",
    "EPOCHS = 30\n",
    "LR = 0.001"
   ]
  },
  {
   "cell_type": "code",
   "execution_count": 7,
   "metadata": {},
   "outputs": [
    {
     "name": "stdout",
     "output_type": "stream",
     "text": [
      "Training/testing set: (2560, 640)\n"
     ]
    }
   ],
   "source": [
    "from recognizer.dataset import SampledVideoDataset\n",
    "\n",
    "training_dataset = SampledVideoDataset(\n",
    "    video_filenames=training_set[\"file\"].values,\n",
    "    labels=training_set[\"target_encoding\"].values,\n",
    "    num_frames=NUM_FRAMES,\n",
    "    transform=transform,\n",
    ")\n",
    "\n",
    "testing_dataset = SampledVideoDataset(\n",
    "    video_filenames=testing_set[\"file\"].values,\n",
    "    labels=testing_set[\"target_encoding\"].values,\n",
    "    num_frames=NUM_FRAMES,\n",
    "    transform=transform,\n",
    ")\n",
    "\n",
    "print(f\"Training/testing set: ({len(training_dataset)}, {len(testing_dataset)})\")"
   ]
  },
  {
   "attachments": {},
   "cell_type": "markdown",
   "metadata": {},
   "source": [
    "### Data Loaders"
   ]
  },
  {
   "cell_type": "code",
   "execution_count": 8,
   "metadata": {},
   "outputs": [],
   "source": [
    "import torch \n",
    "from torch import nn\n",
    "\n",
    "train_loader = torch.utils.data.DataLoader(training_dataset, batch_size=BATCH_SIZE, shuffle = True)\n",
    "\n",
    "test_loader = torch.utils.data.DataLoader(testing_dataset, batch_size=BATCH_SIZE, shuffle = False)"
   ]
  },
  {
   "cell_type": "code",
   "execution_count": 9,
   "metadata": {},
   "outputs": [
    {
     "data": {
      "text/plain": [
       "'cuda'"
      ]
     },
     "execution_count": 9,
     "metadata": {},
     "output_type": "execute_result"
    }
   ],
   "source": [
    "device = (\n",
    "    \"cuda\"\n",
    "    if torch.cuda.is_available()\n",
    "    else \"mps\"\n",
    "    if torch.backends.mps.is_available()\n",
    "    else \"cpu\"\n",
    ")\n",
    "\n",
    "device"
   ]
  },
  {
   "cell_type": "markdown",
   "metadata": {},
   "source": [
    "### Model"
   ]
  },
  {
   "cell_type": "code",
   "execution_count": 23,
   "metadata": {},
   "outputs": [],
   "source": [
    "from recognizer.models.molchanov_3d import Molchanov3DCNN\n",
    "\n",
    "model = Molchanov3DCNN(\n",
    "    num_classes=NUM_CLASSES,\n",
    "    num_frames=NUM_FRAMES,\n",
    "    batch_size=BATCH_SIZE,\n",
    ")\n",
    "\n",
    "model.to(device)\n",
    "\n",
    "optimizer = torch.optim.Adam(model.parameters(), lr=LR)\n",
    "\n",
    "loss_function = nn.CrossEntropyLoss()"
   ]
  },
  {
   "cell_type": "code",
   "execution_count": 24,
   "metadata": {},
   "outputs": [
    {
     "name": "stdout",
     "output_type": "stream",
     "text": [
      "Output shape: torch.Size([24, 64])\n"
     ]
    }
   ],
   "source": [
    "dummy_input = torch.randn(24, 3, 16, 216, 384).cuda()\n",
    "\n",
    "output = model(dummy_input)\n",
    "\n",
    "print(\"Output shape:\", output.shape)  # Should be [24, 64]"
   ]
  },
  {
   "cell_type": "code",
   "execution_count": 25,
   "metadata": {},
   "outputs": [
    {
     "name": "stdout",
     "output_type": "stream",
     "text": [
      "Params: 4896102\n"
     ]
    }
   ],
   "source": [
    "p = sum(p.numel() for p in model.parameters() if p.requires_grad)\n",
    "print(f\"Params: {p}\")"
   ]
  },
  {
   "cell_type": "code",
   "execution_count": 13,
   "metadata": {},
   "outputs": [
    {
     "name": "stdout",
     "output_type": "stream",
     "text": [
      "Param: conv_layer_1.0.weight | Shape: torch.Size([3, 3, 5, 5, 5])\n",
      "Param: conv_layer_1.0.bias | Shape: torch.Size([3])\n",
      "Param: conv_layer_2.0.weight | Shape: torch.Size([5, 3, 3, 3, 3])\n",
      "Param: conv_layer_2.0.bias | Shape: torch.Size([5])\n",
      "Param: fc_layer.0.weight | Shape: torch.Size([100, 48880])\n",
      "Param: fc_layer.0.bias | Shape: torch.Size([100])\n",
      "Param: fc_layer.3.weight | Shape: torch.Size([64, 100])\n",
      "Param: fc_layer.3.bias | Shape: torch.Size([64])\n"
     ]
    }
   ],
   "source": [
    "for n, p in model.named_parameters():\n",
    "    print(f\"Param: {n} | Shape: {p.shape}\")"
   ]
  },
  {
   "cell_type": "markdown",
   "metadata": {},
   "source": [
    "## Set Up Experiment in MLflow"
   ]
  },
  {
   "cell_type": "code",
   "execution_count": 14,
   "metadata": {},
   "outputs": [],
   "source": [
    "import mlflow\n",
    "import os\n",
    "\n",
    "from mlflow.entities import Experiment\n",
    "from mlflow.tracking import MlflowClient\n",
    "\n",
    "MLFLOW_TRACKING_SERVER_URI = \"http://localhost:5001\"\n",
    "\n",
    "os.environ[\"AWS_ACCESS_KEY_ID\"] = \"miniouser\"\n",
    "os.environ[\"AWS_SECRET_ACCESS_KEY\"] = \"miniopass\"\n",
    "os.environ[\"MLFLOW_S3_ENDPOINT_URL\"] = \"http://localhost:9000/\"\n",
    "\n",
    "mlflow.set_tracking_uri(MLFLOW_TRACKING_SERVER_URI)\n",
    "mlflow_client = MlflowClient(MLFLOW_TRACKING_SERVER_URI)"
   ]
  },
  {
   "cell_type": "code",
   "execution_count": 15,
   "metadata": {},
   "outputs": [],
   "source": [
    "EXPERIMENT_NAME = \"3D Molchanov 01\"\n",
    "\n",
    "experiment: Experiment = mlflow.set_experiment(experiment_name=EXPERIMENT_NAME)"
   ]
  },
  {
   "cell_type": "code",
   "execution_count": 16,
   "metadata": {},
   "outputs": [
    {
     "name": "stdout",
     "output_type": "stream",
     "text": [
      "Run 'Execution 05' creado con ID '000a69c152cc46eb87672bbfbbcb7c48'\n"
     ]
    }
   ],
   "source": [
    "RUN_NAME = \"Execution 05\"\n",
    "\n",
    "run = None\n",
    "\n",
    "matching_runs = mlflow_client.search_runs(\n",
    "    experiment_ids=[experiment.experiment_id],\n",
    "    filter_string=f\"tags.mlflow.runName = '{RUN_NAME}'\"\n",
    ")\n",
    "\n",
    "if len(matching_runs) > 0:\n",
    "    raise Exception(\"Pisando run existente!!!!!\")\n",
    "\n",
    "run = mlflow_client.create_run(experiment_id=experiment.experiment_id)\n",
    "\n",
    "mlflow_client.set_tag(run_id=run.info.run_id, key=\"mlflow.runName\", value=RUN_NAME)\n",
    "\n",
    "print(f\"Run '{RUN_NAME}' creado con ID '{run.info.run_id}'\")"
   ]
  },
  {
   "cell_type": "markdown",
   "metadata": {},
   "source": [
    "### Log Params"
   ]
  },
  {
   "cell_type": "code",
   "execution_count": 17,
   "metadata": {},
   "outputs": [
    {
     "name": "stdout",
     "output_type": "stream",
     "text": [
      "Params successfully logged\n"
     ]
    }
   ],
   "source": [
    "mlflow_client.log_param(run_id=run.info.run_id, key=\"BATCH_SIZE\", value=BATCH_SIZE)\n",
    "mlflow_client.log_param(run_id=run.info.run_id, key=\"NUM_CLASSES\", value=NUM_CLASSES)\n",
    "mlflow_client.log_param(run_id=run.info.run_id, key=\"EPOCHS\", value=EPOCHS)\n",
    "mlflow_client.log_param(run_id=run.info.run_id, key=\"NUM_FRAMES\", value=NUM_FRAMES)\n",
    "mlflow_client.log_param(run_id=run.info.run_id, key=\"LR\", value=LR)\n",
    "\n",
    "print(\"Params successfully logged\")"
   ]
  },
  {
   "cell_type": "code",
   "execution_count": 18,
   "metadata": {},
   "outputs": [
    {
     "name": "stderr",
     "output_type": "stream",
     "text": [
      "INFO:botocore.credentials:Found credentials in environment variables.\n"
     ]
    }
   ],
   "source": [
    "mlflow_client.log_text(run_id=run.info.run_id, text=str(testing_set.index.values), artifact_file=\"testing set index.txt\")"
   ]
  },
  {
   "attachments": {},
   "cell_type": "markdown",
   "metadata": {},
   "source": [
    "## Training"
   ]
  },
  {
   "cell_type": "code",
   "execution_count": 19,
   "metadata": {},
   "outputs": [],
   "source": [
    "import subprocess\n",
    "\n",
    "CMD = '''\n",
    "on run argv\n",
    "  display notification (item 2 of argv) with title (item 1 of argv) sound name \"Glass\"\n",
    "end run\n",
    "'''\n",
    "\n",
    "def notify(title, text):\n",
    "    subprocess.call(['osascript', '-e', CMD, title, text])"
   ]
  },
  {
   "cell_type": "code",
   "execution_count": 22,
   "metadata": {},
   "outputs": [],
   "source": [
    "from sklearn.metrics import (\n",
    "    accuracy_score,\n",
    "    precision_score,\n",
    "    recall_score,\n",
    "    f1_score,\n",
    "    confusion_matrix\n",
    ")\n",
    "\n",
    "cm = None\n",
    "\n",
    "metrics = {\n",
    "    \"training_loss\": [],\n",
    "    \"testing_loss\": [],\n",
    "    \"accuracy\": [],\n",
    "    \"precision\": [],\n",
    "    \"recall\": [],\n",
    "    \"f1\": []\n",
    "}"
   ]
  },
  {
   "cell_type": "code",
   "execution_count": 26,
   "metadata": {},
   "outputs": [
    {
     "name": "stdout",
     "output_type": "stream",
     "text": [
      "\n",
      "Beginning model training with parameters:\n",
      "- Epochs: 30\n",
      "- Batch Size: 64\n",
      "\n",
      "Epoch 1 - Training phase\n",
      "    - AVG Training Loss: 3.52\n",
      "Epoch 1 - Evaluation phase\n",
      "    - AVG Testing Loss: 2.26\n"
     ]
    },
    {
     "name": "stderr",
     "output_type": "stream",
     "text": [
      "c:\\Users\\facun\\AppData\\Local\\pypoetry\\Cache\\virtualenvs\\recognizer-U-rlUTHu-py3.10\\lib\\site-packages\\sklearn\\metrics\\_classification.py:1344: UndefinedMetricWarning: Precision is ill-defined and being set to 0.0 in labels with no predicted samples. Use `zero_division` parameter to control this behavior.\n",
      "  _warn_prf(average, modifier, msg_start, len(result))\n"
     ]
    },
    {
     "name": "stdout",
     "output_type": "stream",
     "text": [
      "\n",
      "    - Accuracy  : 0.478125\n",
      "    - Precision : 0.5145147075898817\n",
      "    - Recall    : 0.478125\n",
      "    - F1        : 0.4431185618813558\n",
      "    \n",
      "Epoch 2 - Training phase\n",
      "    - AVG Training Loss: 1.39\n",
      "Epoch 2 - Evaluation phase\n",
      "    - AVG Testing Loss: 0.49\n",
      "\n",
      "    - Accuracy  : 0.8796875\n",
      "    - Precision : 0.8939467650405151\n",
      "    - Recall    : 0.8796875\n",
      "    - F1        : 0.8804406786724814\n",
      "    \n",
      "Epoch 3 - Training phase\n",
      "    - AVG Training Loss: 0.33\n",
      "Epoch 3 - Evaluation phase\n",
      "    - AVG Testing Loss: 0.41\n",
      "\n",
      "    - Accuracy  : 0.90625\n",
      "    - Precision : 0.9164450566794318\n",
      "    - Recall    : 0.9062500000000001\n",
      "    - F1        : 0.907202397462695\n",
      "    \n",
      "Epoch 4 - Training phase\n",
      "    - AVG Training Loss: 0.18\n",
      "Epoch 4 - Evaluation phase\n",
      "    - AVG Testing Loss: 0.30\n",
      "\n",
      "    - Accuracy  : 0.9296875\n",
      "    - Precision : 0.9373579545454546\n",
      "    - Recall    : 0.9296875\n",
      "    - F1        : 0.9299451873053848\n",
      "    \n",
      "Epoch 5 - Training phase\n",
      "    - AVG Training Loss: 0.10\n",
      "Epoch 5 - Evaluation phase\n",
      "    - AVG Testing Loss: 0.27\n",
      "\n",
      "    - Accuracy  : 0.9421875\n",
      "    - Precision : 0.9488484605672105\n",
      "    - Recall    : 0.9421875000000001\n",
      "    - F1        : 0.9424027362227744\n",
      "    \n",
      "Epoch 6 - Training phase\n",
      "    - AVG Training Loss: 0.11\n",
      "Epoch 6 - Evaluation phase\n",
      "    - AVG Testing Loss: 0.20\n",
      "\n",
      "    - Accuracy  : 0.953125\n",
      "    - Precision : 0.9556344696969696\n",
      "    - Recall    : 0.953125\n",
      "    - F1        : 0.9530908236500343\n",
      "    \n",
      "Epoch 7 - Training phase\n",
      "    - AVG Training Loss: 0.06\n",
      "Epoch 7 - Evaluation phase\n",
      "    - AVG Testing Loss: 0.21\n",
      "\n",
      "    - Accuracy  : 0.9515625\n",
      "    - Precision : 0.9586777805527806\n",
      "    - Recall    : 0.9515625000000001\n",
      "    - F1        : 0.9515759100776432\n",
      "    \n",
      "Epoch 8 - Training phase\n",
      "    - AVG Training Loss: 0.04\n",
      "Epoch 8 - Evaluation phase\n",
      "    - AVG Testing Loss: 0.20\n",
      "\n",
      "    - Accuracy  : 0.946875\n",
      "    - Precision : 0.9530551913364413\n",
      "    - Recall    : 0.9468749999999999\n",
      "    - F1        : 0.9471876073170411\n",
      "    \n",
      "Epoch 9 - Training phase\n",
      "    - AVG Training Loss: 0.06\n",
      "Epoch 9 - Evaluation phase\n",
      "    - AVG Testing Loss: 0.18\n",
      "\n",
      "    - Accuracy  : 0.9625\n",
      "    - Precision : 0.9662878787878788\n",
      "    - Recall    : 0.9625\n",
      "    - F1        : 0.9620364972145159\n",
      "    \n",
      "Epoch 10 - Training phase\n",
      "    - AVG Training Loss: 0.06\n",
      "Epoch 10 - Evaluation phase\n",
      "    - AVG Testing Loss: 0.24\n",
      "\n",
      "    - Accuracy  : 0.9609375\n",
      "    - Precision : 0.9653882575757576\n",
      "    - Recall    : 0.9609375\n",
      "    - F1        : 0.9610681533378902\n",
      "    \n",
      "Epoch 11 - Training phase\n",
      "    - AVG Training Loss: 0.07\n",
      "Epoch 11 - Evaluation phase\n",
      "    - AVG Testing Loss: 0.23\n",
      "\n",
      "    - Accuracy  : 0.959375\n",
      "    - Precision : 0.9631155303030303\n",
      "    - Recall    : 0.9593750000000001\n",
      "    - F1        : 0.9592113569909624\n",
      "    \n",
      "Epoch 12 - Training phase\n",
      "    - AVG Training Loss: 0.06\n",
      "Epoch 12 - Evaluation phase\n",
      "    - AVG Testing Loss: 0.26\n",
      "\n",
      "    - Accuracy  : 0.9546875\n",
      "    - Precision : 0.958862665112665\n",
      "    - Recall    : 0.9546875\n",
      "    - F1        : 0.9542351246805496\n",
      "    \n",
      "Epoch 13 - Training phase\n",
      "    - AVG Training Loss: 0.08\n",
      "Epoch 13 - Evaluation phase\n",
      "    - AVG Testing Loss: 0.19\n",
      "\n",
      "    - Accuracy  : 0.95625\n",
      "    - Precision : 0.9607007575757576\n",
      "    - Recall    : 0.95625\n",
      "    - F1        : 0.9553953085420772\n",
      "    \n",
      "Epoch 14 - Training phase\n",
      "    - AVG Training Loss: 0.05\n",
      "Epoch 14 - Evaluation phase\n",
      "    - AVG Testing Loss: 0.21\n",
      "\n",
      "    - Accuracy  : 0.9546875\n",
      "    - Precision : 0.9623992327117328\n",
      "    - Recall    : 0.9546875\n",
      "    - F1        : 0.9555330034985356\n",
      "    \n",
      "Epoch 15 - Training phase\n",
      "    - AVG Training Loss: 0.08\n",
      "Epoch 15 - Evaluation phase\n",
      "    - AVG Testing Loss: 0.31\n",
      "\n",
      "    - Accuracy  : 0.9328125\n",
      "    - Precision : 0.941701701076701\n",
      "    - Recall    : 0.9328125\n",
      "    - F1        : 0.9318762290775474\n",
      "    \n",
      "Epoch 16 - Training phase\n",
      "    - AVG Training Loss: 0.07\n",
      "Epoch 16 - Evaluation phase\n",
      "    - AVG Testing Loss: 0.17\n",
      "\n",
      "    - Accuracy  : 0.96875\n",
      "    - Precision : 0.9724358974358974\n",
      "    - Recall    : 0.96875\n",
      "    - F1        : 0.9687186443643403\n",
      "    \n",
      "Epoch 17 - Training phase\n",
      "    - AVG Training Loss: 0.04\n",
      "Epoch 17 - Evaluation phase\n",
      "    - AVG Testing Loss: 0.17\n",
      "\n",
      "    - Accuracy  : 0.9703125\n",
      "    - Precision : 0.9732954545454546\n",
      "    - Recall    : 0.9703125\n",
      "    - F1        : 0.9703613911673123\n",
      "    \n",
      "Epoch 18 - Training phase\n",
      "    - AVG Training Loss: 0.04\n",
      "Epoch 18 - Evaluation phase\n",
      "    - AVG Testing Loss: 0.19\n",
      "\n",
      "    - Accuracy  : 0.9546875\n",
      "    - Precision : 0.9581005366161617\n",
      "    - Recall    : 0.9546875000000001\n",
      "    - F1        : 0.9544270239993926\n",
      "    \n",
      "Epoch 19 - Training phase\n",
      "    - AVG Training Loss: 0.04\n",
      "Epoch 19 - Evaluation phase\n",
      "    - AVG Testing Loss: 0.28\n",
      "\n",
      "    - Accuracy  : 0.9375\n",
      "    - Precision : 0.9446520493395494\n",
      "    - Recall    : 0.9375\n",
      "    - F1        : 0.9371667620744297\n",
      "    \n",
      "Epoch 20 - Training phase\n",
      "    - AVG Training Loss: 0.06\n",
      "Epoch 20 - Evaluation phase\n",
      "    - AVG Testing Loss: 0.22\n",
      "\n",
      "    - Accuracy  : 0.9453125\n",
      "    - Precision : 0.9511375777000777\n",
      "    - Recall    : 0.9453125\n",
      "    - F1        : 0.9451341189559869\n",
      "    \n",
      "Epoch 21 - Training phase\n",
      "    - AVG Training Loss: 0.03\n",
      "Epoch 21 - Evaluation phase\n",
      "    - AVG Testing Loss: 0.19\n",
      "\n",
      "    - Accuracy  : 0.9578125\n",
      "    - Precision : 0.9619791666666667\n",
      "    - Recall    : 0.9578125000000001\n",
      "    - F1        : 0.9575040961360621\n",
      "    \n",
      "Epoch 22 - Training phase\n",
      "    - AVG Training Loss: 0.03\n",
      "Epoch 22 - Evaluation phase\n",
      "    - AVG Testing Loss: 0.19\n",
      "\n",
      "    - Accuracy  : 0.9609375\n",
      "    - Precision : 0.966272095959596\n",
      "    - Recall    : 0.9609375\n",
      "    - F1        : 0.9610875101635551\n",
      "    \n",
      "Epoch 23 - Training phase\n",
      "    - AVG Training Loss: 0.03\n",
      "Epoch 23 - Evaluation phase\n",
      "    - AVG Testing Loss: 0.25\n",
      "\n",
      "    - Accuracy  : 0.94375\n",
      "    - Precision : 0.9504425262237762\n",
      "    - Recall    : 0.9437500000000001\n",
      "    - F1        : 0.9437020168999575\n",
      "    \n",
      "Epoch 24 - Training phase\n",
      "    - AVG Training Loss: 0.03\n",
      "Epoch 24 - Evaluation phase\n",
      "    - AVG Testing Loss: 0.16\n",
      "\n",
      "    - Accuracy  : 0.971875\n",
      "    - Precision : 0.9743371212121212\n",
      "    - Recall    : 0.971875\n",
      "    - F1        : 0.9717727082858663\n",
      "    \n",
      "Epoch 25 - Training phase\n",
      "    - AVG Training Loss: 0.06\n",
      "Epoch 25 - Evaluation phase\n",
      "    - AVG Testing Loss: 0.22\n",
      "\n",
      "    - Accuracy  : 0.94375\n",
      "    - Precision : 0.9496234668109669\n",
      "    - Recall    : 0.9437500000000001\n",
      "    - F1        : 0.9433397930543829\n",
      "    \n",
      "Epoch 26 - Training phase\n",
      "    - AVG Training Loss: 0.06\n",
      "Epoch 26 - Evaluation phase\n",
      "    - AVG Testing Loss: 0.22\n",
      "\n",
      "    - Accuracy  : 0.94375\n",
      "    - Precision : 0.950657849095349\n",
      "    - Recall    : 0.9437500000000001\n",
      "    - F1        : 0.9435354211548014\n",
      "    \n",
      "Epoch 27 - Training phase\n",
      "    - AVG Training Loss: 0.05\n",
      "Epoch 27 - Evaluation phase\n",
      "    - AVG Testing Loss: 0.33\n",
      "\n",
      "    - Accuracy  : 0.940625\n",
      "    - Precision : 0.9475407405094904\n",
      "    - Recall    : 0.940625\n",
      "    - F1        : 0.9408119932668998\n",
      "    \n",
      "Epoch 28 - Training phase\n",
      "    - AVG Training Loss: 0.07\n",
      "Epoch 28 - Evaluation phase\n",
      "    - AVG Testing Loss: 0.31\n",
      "\n",
      "    - Accuracy  : 0.95\n",
      "    - Precision : 0.9545223873348874\n",
      "    - Recall    : 0.9500000000000001\n",
      "    - F1        : 0.9498154441289033\n",
      "    \n",
      "Epoch 29 - Training phase\n",
      "    - AVG Training Loss: 0.06\n",
      "Epoch 29 - Evaluation phase\n",
      "    - AVG Testing Loss: 0.23\n",
      "\n",
      "    - Accuracy  : 0.959375\n",
      "    - Precision : 0.9650833541458541\n",
      "    - Recall    : 0.9593750000000001\n",
      "    - F1        : 0.959754591239103\n",
      "    \n",
      "Epoch 30 - Training phase\n",
      "    - AVG Training Loss: 0.05\n",
      "Epoch 30 - Evaluation phase\n",
      "    - AVG Testing Loss: 0.23\n",
      "\n",
      "    - Accuracy  : 0.9515625\n",
      "    - Precision : 0.9551609848484849\n",
      "    - Recall    : 0.9515625\n",
      "    - F1        : 0.95110837197718\n",
      "    \n"
     ]
    }
   ],
   "source": [
    "print(\n",
    "f\"\"\"\n",
    "Beginning model training with parameters:\n",
    "- Epochs: {EPOCHS}\n",
    "- Batch Size: {BATCH_SIZE}\n",
    "\"\"\"\n",
    ")\n",
    "\n",
    "for epoch in range(EPOCHS):\n",
    "    print(f\"Epoch {epoch + 1} - Training phase\")\n",
    "\n",
    "    model.train()\n",
    "\n",
    "    running_training_loss = 0.0\n",
    "\n",
    "    for _, data in enumerate(train_loader):\n",
    "\n",
    "        batch, labels = data[0].to(device), data[1].to(device)\n",
    "\n",
    "        logits = model(batch)\n",
    "\n",
    "        loss = loss_function(logits, labels)\n",
    "\n",
    "        running_training_loss += loss.item()\n",
    "\n",
    "        optimizer.zero_grad()\n",
    "        loss.backward()\n",
    "        optimizer.step()\n",
    "\n",
    "    average_training_loss = running_training_loss / len(train_loader)\n",
    "    metrics[\"training_loss\"].append(round(average_training_loss, 2))\n",
    "\n",
    "    print(f\"    - AVG Training Loss: {average_training_loss:.2f}\")\n",
    "\n",
    "    # Evaluation\n",
    "    print(f\"Epoch {epoch + 1} - Evaluation phase\")\n",
    "\n",
    "    model.eval()\n",
    "\n",
    "    all_preds = []\n",
    "    all_targets = []\n",
    "\n",
    "    running_testing_loss = 0.0\n",
    "\n",
    "    with torch.no_grad():\n",
    "        for data in test_loader:\n",
    "            inputs, labels = data[0].to(device), data[1].to(device)\n",
    "\n",
    "            logits = model(inputs)\n",
    "\n",
    "            _, preds = torch.max(logits, 1)\n",
    "\n",
    "            all_preds.extend(preds.detach().cpu())\n",
    "            all_targets.extend(labels.detach().cpu())\n",
    "\n",
    "            loss = loss_function(logits, labels)\n",
    "            running_testing_loss += loss.item()\n",
    "\n",
    "    average_testing_loss = running_testing_loss / len(test_loader)\n",
    "    metrics[\"testing_loss\"].append(round(average_testing_loss, 2))\n",
    "\n",
    "    print(f\"    - AVG Testing Loss: {average_testing_loss:.2f}\")\n",
    "\n",
    "    all_preds = np.array(all_preds)\n",
    "    all_targets = np.array(all_targets)\n",
    "\n",
    "    metrics[\"accuracy\"].append(accuracy_score(all_targets, all_preds))\n",
    "    metrics[\"precision\"].append(precision_score(all_targets, all_preds, average=\"macro\"))\n",
    "    metrics[\"recall\"].append(recall_score(all_targets, all_preds, average=\"macro\"))\n",
    "    metrics[\"f1\"].append(f1_score(all_targets, all_preds, average=\"macro\"))\n",
    "\n",
    "    for metric in metrics.keys():\n",
    "        mlflow_client.log_metric(\n",
    "            run_id=run.info.run_id,\n",
    "            key=metric,\n",
    "            value=metrics[metric][epoch],\n",
    "            step=epoch,\n",
    "        )\n",
    "\n",
    "    if epoch == EPOCHS - 1:\n",
    "        cm = confusion_matrix(all_targets, all_preds)\n",
    "\n",
    "    print(f\"\"\"\n",
    "    - Accuracy  : {metrics['accuracy'][-1]}\n",
    "    - Precision : {metrics['precision'][-1]}\n",
    "    - Recall    : {metrics['recall'][-1]}\n",
    "    - F1        : {metrics['f1'][-1]}\n",
    "    \"\"\")"
   ]
  },
  {
   "attachments": {},
   "cell_type": "markdown",
   "metadata": {},
   "source": [
    "## Evaluation"
   ]
  },
  {
   "attachments": {},
   "cell_type": "markdown",
   "metadata": {},
   "source": [
    "### Confusion Matrix"
   ]
  },
  {
   "cell_type": "code",
   "execution_count": 27,
   "metadata": {},
   "outputs": [],
   "source": [
    "cm = confusion_matrix(all_targets, all_preds)"
   ]
  },
  {
   "cell_type": "code",
   "execution_count": 28,
   "metadata": {},
   "outputs": [
    {
     "data": {
      "text/plain": [
       "<AxesSubplot: >"
      ]
     },
     "execution_count": 28,
     "metadata": {},
     "output_type": "execute_result"
    },
    {
     "data": {
      "image/png": "[encoded data removed]",
      "text/plain": [
       "<Figure size 640x480 with 2 Axes>"
      ]
     },
     "metadata": {},
     "output_type": "display_data"
    }
   ],
   "source": [
    "import seaborn as sns\n",
    "\n",
    "sns.heatmap(data=cm)"
   ]
  },
  {
   "attachments": {},
   "cell_type": "markdown",
   "metadata": {},
   "source": [
    "### Accuracy/Recall/Precision"
   ]
  },
  {
   "cell_type": "code",
   "execution_count": 29,
   "metadata": {},
   "outputs": [
    {
     "data": {
      "image/png": "[encoded data removed]",
      "text/plain": [
       "<Figure size 800x400 with 1 Axes>"
      ]
     },
     "metadata": {},
     "output_type": "display_data"
    }
   ],
   "source": [
    "import matplotlib.pyplot as plt\n",
    "\n",
    "fig, ax = plt.subplots(1, 1, figsize=(8,4))\n",
    "\n",
    "ax.plot(metrics[\"accuracy\"], label=\"Accuracy\", marker=\".\")\n",
    "ax.plot(metrics[\"precision\"], label=\"Precision\", marker=\".\")\n",
    "ax.plot(metrics[\"recall\"], label=\"Recall\", marker=\".\")\n",
    "ax.plot(metrics[\"f1\"], label=\"F1\", marker=\".\")\n",
    "\n",
    "ax.set_xticks(range(0, epoch+1))\n",
    "ax.set_xticklabels(range(1, epoch+2))\n",
    "ax.set_yticks(np.arange(0, 1.1, 0.1))\n",
    "ax.set_yticklabels(np.arange(0, 1.1, 0.1))\n",
    "ax.set_xlabel(\"Epoch\")\n",
    "ax.legend()\n",
    "ax.grid(alpha=0.1)\n",
    "plt.show()"
   ]
  },
  {
   "attachments": {},
   "cell_type": "markdown",
   "metadata": {},
   "source": [
    "### Loss"
   ]
  },
  {
   "cell_type": "code",
   "execution_count": 30,
   "metadata": {},
   "outputs": [
    {
     "data": {
      "image/png": "[encoded data removed]",
      "text/plain": [
       "<Figure size 800x400 with 1 Axes>"
      ]
     },
     "metadata": {},
     "output_type": "display_data"
    }
   ],
   "source": [
    "import matplotlib.pyplot as plt\n",
    "\n",
    "fig, ax = plt.subplots(1, 1, figsize=(8,4))\n",
    "\n",
    "ax.plot(metrics[\"training_loss\"], label=\"Training Loss\", marker=\".\", color=\"steelblue\")\n",
    "ax.plot(metrics[\"testing_loss\"], label=\"Evaluation Loss\", marker=\".\", color=\"orange\")\n",
    "\n",
    "ax.set_xticks(range(0, epoch+1))\n",
    "ax.set_xticklabels(range(1, epoch+2))\n",
    "ax.set_xlabel(\"Epoch\")\n",
    "ax.legend()\n",
    "ax.grid(alpha=0.1)\n",
    "plt.show()"
   ]
  },
  {
   "attachments": {},
   "cell_type": "markdown",
   "metadata": {},
   "source": [
    "## Save model"
   ]
  },
  {
   "cell_type": "code",
   "execution_count": 31,
   "metadata": {},
   "outputs": [],
   "source": [
    "import copy\n",
    "from recognizer.utils.constants import ROOT_DIR\n",
    "\n",
    "MODELS_DIR = ROOT_DIR / \"models\"\n",
    "\n",
    "MODEL_PATH = MODELS_DIR / f\"{EXPERIMENT_NAME}_{RUN_NAME}.pth\"\n",
    "\n",
    "if MODEL_PATH.exists():\n",
    "        raise Exception(\"El modelo ya existe!!!!\")\n",
    "\n",
    "with open(MODEL_PATH, \"w\") as f:\n",
    "        f.write(\"\")\n",
    "\n",
    "torch.save(copy.deepcopy(model.state_dict()), f=MODEL_PATH)"
   ]
  },
  {
   "cell_type": "code",
   "execution_count": 33,
   "metadata": {},
   "outputs": [],
   "source": [
    "mlflow_client.log_artifact(\n",
    "    run_id=run.info.run_id,\n",
    "    local_path=str(MODEL_PATH),\n",
    "    artifact_path=\"\",\n",
    ")"
   ]
  },
  {
   "cell_type": "markdown",
   "metadata": {},
   "source": [
    "## Clasificación manual"
   ]
  },
  {
   "cell_type": "code",
   "execution_count": 67,
   "metadata": {},
   "outputs": [],
   "source": [
    "import random\n",
    "\n",
    "idx = random.randint(0, BATCH_SIZE)\n",
    "\n",
    "batch, klasses = next(iter(test_loader))\n",
    "\n",
    "sign_video = batch[idx]\n",
    "\n",
    "klass = klasses[idx]"
   ]
  },
  {
   "cell_type": "code",
   "execution_count": 68,
   "metadata": {},
   "outputs": [
    {
     "data": {
      "text/plain": [
       "torch.Size([1, 3, 16, 216, 384])"
      ]
     },
     "execution_count": 68,
     "metadata": {},
     "output_type": "execute_result"
    }
   ],
   "source": [
    "sign_video = sign_video.unsqueeze(0)\n",
    "sign_video.shape"
   ]
  },
  {
   "cell_type": "code",
   "execution_count": 69,
   "metadata": {},
   "outputs": [],
   "source": [
    "model.eval()\n",
    "\n",
    "logits = model(sign_video.to(device))"
   ]
  },
  {
   "cell_type": "code",
   "execution_count": 70,
   "metadata": {},
   "outputs": [
    {
     "data": {
      "text/plain": [
       "tensor([[ -2.9154,  13.4723,   9.3186,  -5.6611,  -4.5266, -12.1897, -11.7574,\n",
       "          -8.4881,  -6.7171,  -1.9353,  -7.3192,  -7.6966,  -6.2635,  -5.2877,\n",
       "          -7.0587,  -2.8872,  -7.9506,  -8.4682, -14.7871,   0.8719,  -6.4162,\n",
       "         -15.3705,  -7.1663,  -0.8576,  -3.7901, -15.7203, -16.0695,  -7.0908,\n",
       "          -8.6490,  -8.9605, -18.6794,  -3.0950,  -5.9258,  -2.5564,  -4.0226,\n",
       "           0.9976, -13.6126,  -8.3729, -14.0957, -11.4828, -12.1888, -13.6719,\n",
       "          -7.8638,  -8.9719,  -7.2440,  -7.7995, -10.8485,  -9.2428, -13.7680,\n",
       "          -8.1550,  -9.1330, -10.6458, -14.1995,  -1.7354,  -7.9136, -13.6271,\n",
       "         -10.3315,  -9.3076, -17.2586,  -7.6721,  -7.5866, -13.2349,  -8.7047,\n",
       "          -6.1207]], device='cuda:0', grad_fn=<AddmmBackward0>)"
      ]
     },
     "execution_count": 70,
     "metadata": {},
     "output_type": "execute_result"
    }
   ],
   "source": [
    "logits"
   ]
  },
  {
   "cell_type": "code",
   "execution_count": 71,
   "metadata": {},
   "outputs": [
    {
     "name": "stdout",
     "output_type": "stream",
     "text": [
      "Ground Truth: 2. Predicted class: tensor([1], device='cuda:0')\n"
     ]
    }
   ],
   "source": [
    "from torch import nn\n",
    "\n",
    "pred_probab = nn.Softmax(dim=1)(logits)\n",
    "y_pred = pred_probab.argmax(1)\n",
    "print(f\"Ground Truth: {klass}. Predicted class: {y_pred}\")"
   ]
  }
 ],
 "metadata": {
  "kernelspec": {
   "display_name": "recognizer-UlVdN89U-py3.9",
   "language": "python",
   "name": "python3"
  },
  "language_info": {
   "codemirror_mode": {
    "name": "ipython",
    "version": 3
   },
   "file_extension": ".py",
   "mimetype": "text/x-python",
   "name": "python",
   "nbconvert_exporter": "python",
   "pygments_lexer": "ipython3",
   "version": "3.10.11"
  },
  "orig_nbformat": 4
 },
 "nbformat": 4,
 "nbformat_minor": 2
}
