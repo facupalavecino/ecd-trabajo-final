{
 "cells": [
  {
   "cell_type": "code",
   "execution_count": 5,
   "metadata": {},
   "outputs": [],
   "source": [
    "import pandas as pd"
   ]
  },
  {
   "cell_type": "code",
   "execution_count": 6,
   "metadata": {},
   "outputs": [],
   "source": [
    "from recognizer.utils.constants import ROOT_DIR\n",
    "\n",
    "DATA_DIR = ROOT_DIR / \"data\" / \"data\""
   ]
  },
  {
   "cell_type": "code",
   "execution_count": 7,
   "metadata": {},
   "outputs": [],
   "source": [
    "with open(DATA_DIR / \"preds.jsonl\", \"r\") as f:\n",
    "    json_lines = f.readlines()"
   ]
  },
  {
   "cell_type": "code",
   "execution_count": 8,
   "metadata": {},
   "outputs": [
    {
     "data": {
      "text/plain": [
       "68555"
      ]
     },
     "execution_count": 8,
     "metadata": {},
     "output_type": "execute_result"
    }
   ],
   "source": [
    "len(json_lines)"
   ]
  },
  {
   "cell_type": "code",
   "execution_count": 9,
   "metadata": {},
   "outputs": [
    {
     "data": {
      "text/plain": [
       "'{\"input\":{\"userId\":\"00390c49-c9b8-401a-bf93-738df3316754\",\"itemList\":[\"diarco-jun23\",\"bsf-ribera-ene23\",\"cabal-gastro-jun23\",\"30-macro-carrefour-selecta-abril23\",\"10-patagonia-fudre-may23\",\"karcher-jun23\",\"bsf-dar-ene23\",\"bersa_vea_ene2023\",\"buenosdias-jun23\",\"10-spv-puppis-may233\",\"10-patagonia-chango-jun23\",\"cabal-librerias-jun23\",\"18-macro-premia-junio23\",\"25-macro-changohiper-preferencial-abril23\",\"40-credicoop-unicen-may23\",\"10-santander-yenny-abril23\",\"fiesta-bersa-jun23\",\"fudre-feb23\",\"10-bna-perfumerias-ene23\",\"20-macro-carrefour-carterageneral-abril23\",\"30-patagonia-bk-jun23\",\"20off-bsf-gulliver-ene2023\",\"25-macro-carrefour-preferencial-abril23\",\"30-bbva-peluquerias-abril23\",\"springwall-oct22\",\"yoy-compra-abr23\",\"9-cuotas-nacion-hoteles-ene23\",\"20-itau-avoas-may23\",\"10-ciudad-gastronomia-nov22\",\"cafeterias-abr23\",\"30-credi-supers-jun23\",\"10-spv-cuspide-may233\",\"10-ciudad-fudre-mar23\",\"15-bna-mayoristas-mar23\",\"30off_patagonia_cafeteria_ago2022\",\"bsf_jumbo_ene2023\",\"bica-compra-jun23\",\"10-spv-ensalud-jun23\",\"25-macro-yaguar-preferencial-abril23\",\"10-ciudad-patio-may23\",\"35-bna-carnicerias-mar23\",\"15-spv-bruta-jun23\",\"20off-girodidactico-bsf-ene2023\",\"30-bbva-jugueterias-marz23\",\"clic-grupo-petersen-jun232\",\"mc-librerias-abr23\",\"20off-bsf-shoppingdelsiglo-ene2023\",\"10-icbc-chango-mar23\",\"15-santander-rex-abril23\",\"30-patagonia-puppis-nov22\",\"20-macro-changohiper-carterageneral-abril23\",\"bica_30_combustible_jun23\",\"25-bna-indumentaria-mar23\",\"25-macro-makro-preferencial-abril23\",\"primeracompraonline\",\"30-bna-entretenimiento-mar23\",\"santander-supermiercoles-jun23\",\"bsf_gallega_ene2023\",\"disfraces-bsf-jun23\",\"disfraces-bersa-jun232\",\"10-supervielle-gulf-abr23\",\"20off-bsf-redsport-ene2023\",\"cabal-indum-jun23\",\"40-bbva-cafeterias-abril23\",\"35-especial-bsc-jun23\",\"25-bna-librerias-mar23\",\"20off-macro-pagos-jun23\",\"30-macro-changohiper-selecta-abril23\",\"40-santander-opensports-abril23\",\"30-macro-yaguar-selecta-abril23\",\"bsf-vea-ene23\",\"20-macro-yaguar-carterageneral-abril23\",\"20-bna-supers-mar23\",\"10-ciudad-indumentaria-mar23\",\"farmaciasonline-abr23\",\"20-ciudad-banquito-ene23\",\"25-bna-gastro-mar23\",\"30-macro-makro-selecta-abril23\",\"20-bersa-beter-may23\",\"30-spv-desayunos-feb23\",\"20-bbva-farmaonline-abr23\",\"30-santander-chango-feb23\",\"vital-jun23\",\"25-bna-jugueterias-mar23\",\"35-especial-bsj-jun23\",\"cinepoliscandy-2022\",\"30-spv-chango-jun23\",\"ciudad_juegueterias_oct22\",\"35-bna-comerciosbarrio-mar23\",\"bsf-alverar-ene23\",\"35-especial-bsf-jun23\",\"10-bna-combustible-mar23\",\"10-spv-cuspide-may23\",\"ciudad_librerias_oct22\",\"30-credicoop-mayoristas-jun232\",\"15_ciudad_combustible_oct22\",\"cabal-desayunos-jun23\",\"30-patagonia-todo-dic22\",\"definit-jun23\",\"15off-bersa-dar-ene2023\",\"25-itau-beegreen-feb23\",\"25-ciudad-cencosud-nov22\",\"20off-bsf-palacegarden-ene2023\",\"10-ciudad-desayunos-nov22\",\"20-macro-makro-carterageneral-abril23\",\"semanamodo-jun23\",\"10-bna-farmacias-mar23\",\"10-ciudad-perfumerias-mar23\",\"20off-bersa-redsport-ene2023\",\"10-ciudad-hogar-mar23\",\"cinepolis2x1-2022\",\"15-bsf-super-ene23\",\"35-especial-bersa-jun23\",\"10-spv-puppis-may23\",\"puntos-credicoop-jun23\"]},\"output\":{\"recommendedItems\":[\"semanamodo-jun23\",\"farmaciasonline-abr23\",\"santander-supermiercoles-jun23\",\"vital-jun23\",\"cafeterias-abr23\",\"20off-macro-pagos-jun23\",\"25-ciudad-cencosud-nov22\",\"30-patagonia-puppis-nov22\",\"fudre-feb23\",\"20-bna-supers-mar23\",\"primeracompraonline\",\"20-bbva-farmaonline-abr23\",\"30-patagonia-bk-jun23\",\"diarco-jun23\",\"cinepolis2x1-2022\",\"10-bna-combustible-mar23\",\"buenosdias-jun23\",\"40-bbva-cafeterias-abril23\",\"mc-librerias-abr23\",\"10-bna-farmacias-mar23\",\"springwall-oct22\",\"10-patagonia-chango-jun23\",\"30-santander-chango-feb23\",\"35-bna-comerciosbarrio-mar23\",\"definit-jun23\"],\"scores\":[0.4137042,0.3394863,0.0776529,0.0613462,0.0567503,0.0192455,0.0089104,0.0035686,0.0020579,0.0019375,0.0016034,0.0013898,9.462E-4,7.683E-4,7.291E-4,5.09E-4,5.079E-4,4.86E-4,4.847E-4,4.309E-4,3.561E-4,3.366E-4,2.822E-4,2.751E-4,2.68E-4]},\"error\":null}\\n'"
      ]
     },
     "execution_count": 9,
     "metadata": {},
     "output_type": "execute_result"
    }
   ],
   "source": [
    "json_lines[0]"
   ]
  },
  {
   "cell_type": "code",
   "execution_count": 10,
   "metadata": {},
   "outputs": [],
   "source": [
    "import json\n",
    "\n",
    "items = [json.loads(line) for line in json_lines]"
   ]
  },
  {
   "cell_type": "code",
   "execution_count": 3,
   "metadata": {},
   "outputs": [
    {
     "data": {
      "text/plain": [
       "{'Item': {'PK': {'S': 'evt1000'},\n",
       "  'SK': {'S': '--'},\n",
       "  'customer_event_time': {'S': 'cus1000#2022-11-22 11:22:00'},\n",
       "  'record_type': {'S': 'event'},\n",
       "  'customer_id': {'N': '1000'},\n",
       "  'product_id': {'N': '1000'},\n",
       "  'event_id': {'N': '1000'},\n",
       "  'event_type': {'S': 'hover'},\n",
       "  'event_time': {'S': '2022-11-22 11:22:00'},\n",
       "  'event_status': {'S': 'active'},\n",
       "  'event_scalar': {'N': '0.5080000'},\n",
       "  'description': {'S': 'user hovered over target'}}}"
      ]
     },
     "execution_count": 3,
     "metadata": {},
     "output_type": "execute_result"
    }
   ],
   "source": [
    "{\"Item\":{\"PK\":{\"S\":\"evt1000\"},\"SK\":{\"S\":\"--\"},\"customer_event_time\":{\"S\":\"cus1000#2022-11-22 11:22:00\"},\"record_type\":{\"S\":\"event\"},\"customer_id\":{\"N\":\"1000\"},\"product_id\":{\"N\":\"1000\"},\"event_id\":{\"N\":\"1000\"},\"event_type\":{\"S\":\"hover\"},\"event_time\":{\"S\":\"2022-11-22 11:22:00\"},\"event_status\":{\"S\":\"active\"},\"event_scalar\":{\"N\":\"0.5080000\"},\"description\":{\"S\":\"user hovered over target\"}}}"
   ]
  },
  {
   "cell_type": "code",
   "execution_count": 18,
   "metadata": {},
   "outputs": [
    {
     "data": {
      "text/plain": [
       "'00390c49-c9b8-401a-bf93-738df3316754'"
      ]
     },
     "execution_count": 18,
     "metadata": {},
     "output_type": "execute_result"
    }
   ],
   "source": [
    "items[0][\"input\"][\"userId\"]"
   ]
  },
  {
   "cell_type": "code",
   "execution_count": 20,
   "metadata": {},
   "outputs": [],
   "source": [
    "a = zip(items[0][\"output\"][\"recommendedItems\"], items[0][\"output\"][\"scores\"])"
   ]
  },
  {
   "cell_type": "code",
   "execution_count": 29,
   "metadata": {},
   "outputs": [
    {
     "data": {
      "text/plain": [
       "0.0035686"
      ]
     },
     "execution_count": 29,
     "metadata": {},
     "output_type": "execute_result"
    }
   ],
   "source": [
    "next(a)[1]"
   ]
  },
  {
   "cell_type": "code",
   "execution_count": 59,
   "metadata": {},
   "outputs": [
    {
     "name": "stdout",
     "output_type": "stream",
     "text": [
      "{'input': {'userId': '00390c49-c9b8-401a-bf93-738df3316754', 'itemList': ['diarco-jun23', 'bsf-ribera-ene23', 'cabal-gastro-jun23', '30-macro-carrefour-selecta-abril23', '10-patagonia-fudre-may23', 'karcher-jun23', 'bsf-dar-ene23', 'bersa_vea_ene2023', 'buenosdias-jun23', '10-spv-puppis-may233', '10-patagonia-chango-jun23', 'cabal-librerias-jun23', '18-macro-premia-junio23', '25-macro-changohiper-preferencial-abril23', '40-credicoop-unicen-may23', '10-santander-yenny-abril23', 'fiesta-bersa-jun23', 'fudre-feb23', '10-bna-perfumerias-ene23', '20-macro-carrefour-carterageneral-abril23', '30-patagonia-bk-jun23', '20off-bsf-gulliver-ene2023', '25-macro-carrefour-preferencial-abril23', '30-bbva-peluquerias-abril23', 'springwall-oct22', 'yoy-compra-abr23', '9-cuotas-nacion-hoteles-ene23', '20-itau-avoas-may23', '10-ciudad-gastronomia-nov22', 'cafeterias-abr23', '30-credi-supers-jun23', '10-spv-cuspide-may233', '10-ciudad-fudre-mar23', '15-bna-mayoristas-mar23', '30off_patagonia_cafeteria_ago2022', 'bsf_jumbo_ene2023', 'bica-compra-jun23', '10-spv-ensalud-jun23', '25-macro-yaguar-preferencial-abril23', '10-ciudad-patio-may23', '35-bna-carnicerias-mar23', '15-spv-bruta-jun23', '20off-girodidactico-bsf-ene2023', '30-bbva-jugueterias-marz23', 'clic-grupo-petersen-jun232', 'mc-librerias-abr23', '20off-bsf-shoppingdelsiglo-ene2023', '10-icbc-chango-mar23', '15-santander-rex-abril23', '30-patagonia-puppis-nov22', '20-macro-changohiper-carterageneral-abril23', 'bica_30_combustible_jun23', '25-bna-indumentaria-mar23', '25-macro-makro-preferencial-abril23', 'primeracompraonline', '30-bna-entretenimiento-mar23', 'santander-supermiercoles-jun23', 'bsf_gallega_ene2023', 'disfraces-bsf-jun23', 'disfraces-bersa-jun232', '10-supervielle-gulf-abr23', '20off-bsf-redsport-ene2023', 'cabal-indum-jun23', '40-bbva-cafeterias-abril23', '35-especial-bsc-jun23', '25-bna-librerias-mar23', '20off-macro-pagos-jun23', '30-macro-changohiper-selecta-abril23', '40-santander-opensports-abril23', '30-macro-yaguar-selecta-abril23', 'bsf-vea-ene23', '20-macro-yaguar-carterageneral-abril23', '20-bna-supers-mar23', '10-ciudad-indumentaria-mar23', 'farmaciasonline-abr23', '20-ciudad-banquito-ene23', '25-bna-gastro-mar23', '30-macro-makro-selecta-abril23', '20-bersa-beter-may23', '30-spv-desayunos-feb23', '20-bbva-farmaonline-abr23', '30-santander-chango-feb23', 'vital-jun23', '25-bna-jugueterias-mar23', '35-especial-bsj-jun23', 'cinepoliscandy-2022', '30-spv-chango-jun23', 'ciudad_juegueterias_oct22', '35-bna-comerciosbarrio-mar23', 'bsf-alverar-ene23', '35-especial-bsf-jun23', '10-bna-combustible-mar23', '10-spv-cuspide-may23', 'ciudad_librerias_oct22', '30-credicoop-mayoristas-jun232', '15_ciudad_combustible_oct22', 'cabal-desayunos-jun23', '30-patagonia-todo-dic22', 'definit-jun23', '15off-bersa-dar-ene2023', '25-itau-beegreen-feb23', '25-ciudad-cencosud-nov22', '20off-bsf-palacegarden-ene2023', '10-ciudad-desayunos-nov22', '20-macro-makro-carterageneral-abril23', 'semanamodo-jun23', '10-bna-farmacias-mar23', '10-ciudad-perfumerias-mar23', '20off-bersa-redsport-ene2023', '10-ciudad-hogar-mar23', 'cinepolis2x1-2022', '15-bsf-super-ene23', '35-especial-bersa-jun23', '10-spv-puppis-may23', 'puntos-credicoop-jun23']}, 'output': {'recommendedItems': ['semanamodo-jun23', 'farmaciasonline-abr23', 'santander-supermiercoles-jun23', 'vital-jun23', 'cafeterias-abr23', '20off-macro-pagos-jun23', '25-ciudad-cencosud-nov22', '30-patagonia-puppis-nov22', 'fudre-feb23', '20-bna-supers-mar23', 'primeracompraonline', '20-bbva-farmaonline-abr23', '30-patagonia-bk-jun23', 'diarco-jun23', 'cinepolis2x1-2022', '10-bna-combustible-mar23', 'buenosdias-jun23', '40-bbva-cafeterias-abril23', 'mc-librerias-abr23', '10-bna-farmacias-mar23', 'springwall-oct22', '10-patagonia-chango-jun23', '30-santander-chango-feb23', '35-bna-comerciosbarrio-mar23', 'definit-jun23'], 'scores': [0.4137042, 0.3394863, 0.0776529, 0.0613462, 0.0567503, 0.0192455, 0.0089104, 0.0035686, 0.0020579, 0.0019375, 0.0016034, 0.0013898, 0.0009462, 0.0007683, 0.0007291, 0.000509, 0.0005079, 0.000486, 0.0004847, 0.0004309, 0.0003561, 0.0003366, 0.0002822, 0.0002751, 0.000268]}, 'error': None}\n",
      "{'input': {'userId': '008cc0ea-e2bf-49bb-9b0b-71c85f7e17d5', 'itemList': ['diarco-jun23', 'bsf-ribera-ene23', 'cabal-gastro-jun23', '30-macro-carrefour-selecta-abril23', '10-patagonia-fudre-may23', 'karcher-jun23', 'bsf-dar-ene23', 'bersa_vea_ene2023', 'buenosdias-jun23', '10-spv-puppis-may233', '10-patagonia-chango-jun23', 'cabal-librerias-jun23', '18-macro-premia-junio23', '25-macro-changohiper-preferencial-abril23', '40-credicoop-unicen-may23', '10-santander-yenny-abril23', 'fiesta-bersa-jun23', 'fudre-feb23', '10-bna-perfumerias-ene23', '20-macro-carrefour-carterageneral-abril23', '30-patagonia-bk-jun23', '20off-bsf-gulliver-ene2023', '25-macro-carrefour-preferencial-abril23', '30-bbva-peluquerias-abril23', 'springwall-oct22', 'yoy-compra-abr23', '9-cuotas-nacion-hoteles-ene23', '20-itau-avoas-may23', '10-ciudad-gastronomia-nov22', 'cafeterias-abr23', '30-credi-supers-jun23', '10-spv-cuspide-may233', '10-ciudad-fudre-mar23', '15-bna-mayoristas-mar23', '30off_patagonia_cafeteria_ago2022', 'bsf_jumbo_ene2023', 'bica-compra-jun23', '10-spv-ensalud-jun23', '25-macro-yaguar-preferencial-abril23', '10-ciudad-patio-may23', '35-bna-carnicerias-mar23', '15-spv-bruta-jun23', '20off-girodidactico-bsf-ene2023', '30-bbva-jugueterias-marz23', 'clic-grupo-petersen-jun232', 'mc-librerias-abr23', '20off-bsf-shoppingdelsiglo-ene2023', '10-icbc-chango-mar23', '15-santander-rex-abril23', '30-patagonia-puppis-nov22', '20-macro-changohiper-carterageneral-abril23', 'bica_30_combustible_jun23', '25-bna-indumentaria-mar23', '25-macro-makro-preferencial-abril23', 'primeracompraonline', '30-bna-entretenimiento-mar23', 'santander-supermiercoles-jun23', 'bsf_gallega_ene2023', 'disfraces-bsf-jun23', 'disfraces-bersa-jun232', '10-supervielle-gulf-abr23', '20off-bsf-redsport-ene2023', 'cabal-indum-jun23', '40-bbva-cafeterias-abril23', '35-especial-bsc-jun23', '25-bna-librerias-mar23', '20off-macro-pagos-jun23', '30-macro-changohiper-selecta-abril23', '40-santander-opensports-abril23', '30-macro-yaguar-selecta-abril23', 'bsf-vea-ene23', '20-macro-yaguar-carterageneral-abril23', '20-bna-supers-mar23', '10-ciudad-indumentaria-mar23', 'farmaciasonline-abr23', '20-ciudad-banquito-ene23', '25-bna-gastro-mar23', '30-macro-makro-selecta-abril23', '20-bersa-beter-may23', '30-spv-desayunos-feb23', '20-bbva-farmaonline-abr23', '30-santander-chango-feb23', 'vital-jun23', '25-bna-jugueterias-mar23', '35-especial-bsj-jun23', 'cinepoliscandy-2022', '30-spv-chango-jun23', 'ciudad_juegueterias_oct22', '35-bna-comerciosbarrio-mar23', 'bsf-alverar-ene23', '35-especial-bsf-jun23', '10-bna-combustible-mar23', '10-spv-cuspide-may23', 'ciudad_librerias_oct22', '30-credicoop-mayoristas-jun232', '15_ciudad_combustible_oct22', 'cabal-desayunos-jun23', '30-patagonia-todo-dic22', 'definit-jun23', '15off-bersa-dar-ene2023', '25-itau-beegreen-feb23', '25-ciudad-cencosud-nov22', '20off-bsf-palacegarden-ene2023', '10-ciudad-desayunos-nov22', '20-macro-makro-carterageneral-abril23', 'semanamodo-jun23', '10-bna-farmacias-mar23', '10-ciudad-perfumerias-mar23', '20off-bersa-redsport-ene2023', '10-ciudad-hogar-mar23', 'cinepolis2x1-2022', '15-bsf-super-ene23', '35-especial-bersa-jun23', '10-spv-puppis-may23', 'puntos-credicoop-jun23']}, 'output': {'recommendedItems': ['cafeterias-abr23', 'vital-jun23', 'santander-supermiercoles-jun23', 'farmaciasonline-abr23', 'semanamodo-jun23', '20off-macro-pagos-jun23', '25-ciudad-cencosud-nov22', 'diarco-jun23', '40-bbva-cafeterias-abril23', 'cinepolis2x1-2022', 'primeracompraonline', 'buenosdias-jun23', '20-bna-supers-mar23', 'fudre-feb23', 'mc-librerias-abr23', '25-bna-gastro-mar23', '30-bbva-peluquerias-abril23', '30-patagonia-bk-jun23', '30-patagonia-puppis-nov22', '30-santander-chango-feb23', '35-especial-bsf-jun23', '20-bbva-farmaonline-abr23', '25-macro-changohiper-preferencial-abril23', 'definit-jun23', '10-bna-combustible-mar23'], 'scores': [0.635289, 0.1086731, 0.1011316, 0.0560107, 0.0312736, 0.0229269, 0.0048605, 0.0042859, 0.0040249, 0.002107, 0.0020041, 0.0019444, 0.001939, 0.0016805, 0.0014893, 0.0014199, 0.0013445, 0.001298, 0.0010009, 0.0009553, 0.0008053, 0.0007507, 0.0007225, 0.0006908, 0.0005552]}, 'error': None}\n",
      "{'input': {'userId': '009b7669-f83d-40be-826d-5cc347fbc4eb', 'itemList': ['diarco-jun23', 'bsf-ribera-ene23', 'cabal-gastro-jun23', '30-macro-carrefour-selecta-abril23', '10-patagonia-fudre-may23', 'karcher-jun23', 'bsf-dar-ene23', 'bersa_vea_ene2023', 'buenosdias-jun23', '10-spv-puppis-may233', '10-patagonia-chango-jun23', 'cabal-librerias-jun23', '18-macro-premia-junio23', '25-macro-changohiper-preferencial-abril23', '40-credicoop-unicen-may23', '10-santander-yenny-abril23', 'fiesta-bersa-jun23', 'fudre-feb23', '10-bna-perfumerias-ene23', '20-macro-carrefour-carterageneral-abril23', '30-patagonia-bk-jun23', '20off-bsf-gulliver-ene2023', '25-macro-carrefour-preferencial-abril23', '30-bbva-peluquerias-abril23', 'springwall-oct22', 'yoy-compra-abr23', '9-cuotas-nacion-hoteles-ene23', '20-itau-avoas-may23', '10-ciudad-gastronomia-nov22', 'cafeterias-abr23', '30-credi-supers-jun23', '10-spv-cuspide-may233', '10-ciudad-fudre-mar23', '15-bna-mayoristas-mar23', '30off_patagonia_cafeteria_ago2022', 'bsf_jumbo_ene2023', 'bica-compra-jun23', '10-spv-ensalud-jun23', '25-macro-yaguar-preferencial-abril23', '10-ciudad-patio-may23', '35-bna-carnicerias-mar23', '15-spv-bruta-jun23', '20off-girodidactico-bsf-ene2023', '30-bbva-jugueterias-marz23', 'clic-grupo-petersen-jun232', 'mc-librerias-abr23', '20off-bsf-shoppingdelsiglo-ene2023', '10-icbc-chango-mar23', '15-santander-rex-abril23', '30-patagonia-puppis-nov22', '20-macro-changohiper-carterageneral-abril23', 'bica_30_combustible_jun23', '25-bna-indumentaria-mar23', '25-macro-makro-preferencial-abril23', 'primeracompraonline', '30-bna-entretenimiento-mar23', 'santander-supermiercoles-jun23', 'bsf_gallega_ene2023', 'disfraces-bsf-jun23', 'disfraces-bersa-jun232', '10-supervielle-gulf-abr23', '20off-bsf-redsport-ene2023', 'cabal-indum-jun23', '40-bbva-cafeterias-abril23', '35-especial-bsc-jun23', '25-bna-librerias-mar23', '20off-macro-pagos-jun23', '30-macro-changohiper-selecta-abril23', '40-santander-opensports-abril23', '30-macro-yaguar-selecta-abril23', 'bsf-vea-ene23', '20-macro-yaguar-carterageneral-abril23', '20-bna-supers-mar23', '10-ciudad-indumentaria-mar23', 'farmaciasonline-abr23', '20-ciudad-banquito-ene23', '25-bna-gastro-mar23', '30-macro-makro-selecta-abril23', '20-bersa-beter-may23', '30-spv-desayunos-feb23', '20-bbva-farmaonline-abr23', '30-santander-chango-feb23', 'vital-jun23', '25-bna-jugueterias-mar23', '35-especial-bsj-jun23', 'cinepoliscandy-2022', '30-spv-chango-jun23', 'ciudad_juegueterias_oct22', '35-bna-comerciosbarrio-mar23', 'bsf-alverar-ene23', '35-especial-bsf-jun23', '10-bna-combustible-mar23', '10-spv-cuspide-may23', 'ciudad_librerias_oct22', '30-credicoop-mayoristas-jun232', '15_ciudad_combustible_oct22', 'cabal-desayunos-jun23', '30-patagonia-todo-dic22', 'definit-jun23', '15off-bersa-dar-ene2023', '25-itau-beegreen-feb23', '25-ciudad-cencosud-nov22', '20off-bsf-palacegarden-ene2023', '10-ciudad-desayunos-nov22', '20-macro-makro-carterageneral-abril23', 'semanamodo-jun23', '10-bna-farmacias-mar23', '10-ciudad-perfumerias-mar23', '20off-bersa-redsport-ene2023', '10-ciudad-hogar-mar23', 'cinepolis2x1-2022', '15-bsf-super-ene23', '35-especial-bersa-jun23', '10-spv-puppis-may23', 'puntos-credicoop-jun23']}, 'output': {'recommendedItems': ['santander-supermiercoles-jun23', '20off-macro-pagos-jun23', 'cafeterias-abr23', 'vital-jun23', 'semanamodo-jun23', 'farmaciasonline-abr23', '25-ciudad-cencosud-nov22', '20-bna-supers-mar23', '30-patagonia-puppis-nov22', '30-patagonia-bk-jun23', 'primeracompraonline', 'cinepolis2x1-2022', '10-bna-combustible-mar23', 'diarco-jun23', '35-especial-bsf-jun23', '40-bbva-cafeterias-abril23', '20-macro-carrefour-carterageneral-abril23', '10-patagonia-chango-jun23', 'mc-librerias-abr23', '25-macro-changohiper-preferencial-abril23', 'buenosdias-jun23', '35-bna-comerciosbarrio-mar23', '15_ciudad_combustible_oct22', '35-bna-carnicerias-mar23', '30-santander-chango-feb23'], 'scores': [0.3691768, 0.182058, 0.1511583, 0.1251621, 0.05669, 0.0496443, 0.0117232, 0.0097052, 0.0064297, 0.0061038, 0.0034154, 0.0026701, 0.0014405, 0.0013881, 0.0013476, 0.0012214, 0.0011986, 0.0010312, 0.0009888, 0.000896, 0.0008827, 0.0006258, 0.0005795, 0.0005787, 0.0005634]}, 'error': None}\n",
      "{'input': {'userId': '00b2967d-9395-490a-8b7c-c6eb84ba7fd7', 'itemList': ['diarco-jun23', 'bsf-ribera-ene23', 'cabal-gastro-jun23', '30-macro-carrefour-selecta-abril23', '10-patagonia-fudre-may23', 'karcher-jun23', 'bsf-dar-ene23', 'bersa_vea_ene2023', 'buenosdias-jun23', '10-spv-puppis-may233', '10-patagonia-chango-jun23', 'cabal-librerias-jun23', '18-macro-premia-junio23', '25-macro-changohiper-preferencial-abril23', '40-credicoop-unicen-may23', '10-santander-yenny-abril23', 'fiesta-bersa-jun23', 'fudre-feb23', '10-bna-perfumerias-ene23', '20-macro-carrefour-carterageneral-abril23', '30-patagonia-bk-jun23', '20off-bsf-gulliver-ene2023', '25-macro-carrefour-preferencial-abril23', '30-bbva-peluquerias-abril23', 'springwall-oct22', 'yoy-compra-abr23', '9-cuotas-nacion-hoteles-ene23', '20-itau-avoas-may23', '10-ciudad-gastronomia-nov22', 'cafeterias-abr23', '30-credi-supers-jun23', '10-spv-cuspide-may233', '10-ciudad-fudre-mar23', '15-bna-mayoristas-mar23', '30off_patagonia_cafeteria_ago2022', 'bsf_jumbo_ene2023', 'bica-compra-jun23', '10-spv-ensalud-jun23', '25-macro-yaguar-preferencial-abril23', '10-ciudad-patio-may23', '35-bna-carnicerias-mar23', '15-spv-bruta-jun23', '20off-girodidactico-bsf-ene2023', '30-bbva-jugueterias-marz23', 'clic-grupo-petersen-jun232', 'mc-librerias-abr23', '20off-bsf-shoppingdelsiglo-ene2023', '10-icbc-chango-mar23', '15-santander-rex-abril23', '30-patagonia-puppis-nov22', '20-macro-changohiper-carterageneral-abril23', 'bica_30_combustible_jun23', '25-bna-indumentaria-mar23', '25-macro-makro-preferencial-abril23', 'primeracompraonline', '30-bna-entretenimiento-mar23', 'santander-supermiercoles-jun23', 'bsf_gallega_ene2023', 'disfraces-bsf-jun23', 'disfraces-bersa-jun232', '10-supervielle-gulf-abr23', '20off-bsf-redsport-ene2023', 'cabal-indum-jun23', '40-bbva-cafeterias-abril23', '35-especial-bsc-jun23', '25-bna-librerias-mar23', '20off-macro-pagos-jun23', '30-macro-changohiper-selecta-abril23', '40-santander-opensports-abril23', '30-macro-yaguar-selecta-abril23', 'bsf-vea-ene23', '20-macro-yaguar-carterageneral-abril23', '20-bna-supers-mar23', '10-ciudad-indumentaria-mar23', 'farmaciasonline-abr23', '20-ciudad-banquito-ene23', '25-bna-gastro-mar23', '30-macro-makro-selecta-abril23', '20-bersa-beter-may23', '30-spv-desayunos-feb23', '20-bbva-farmaonline-abr23', '30-santander-chango-feb23', 'vital-jun23', '25-bna-jugueterias-mar23', '35-especial-bsj-jun23', 'cinepoliscandy-2022', '30-spv-chango-jun23', 'ciudad_juegueterias_oct22', '35-bna-comerciosbarrio-mar23', 'bsf-alverar-ene23', '35-especial-bsf-jun23', '10-bna-combustible-mar23', '10-spv-cuspide-may23', 'ciudad_librerias_oct22', '30-credicoop-mayoristas-jun232', '15_ciudad_combustible_oct22', 'cabal-desayunos-jun23', '30-patagonia-todo-dic22', 'definit-jun23', '15off-bersa-dar-ene2023', '25-itau-beegreen-feb23', '25-ciudad-cencosud-nov22', '20off-bsf-palacegarden-ene2023', '10-ciudad-desayunos-nov22', '20-macro-makro-carterageneral-abril23', 'semanamodo-jun23', '10-bna-farmacias-mar23', '10-ciudad-perfumerias-mar23', '20off-bersa-redsport-ene2023', '10-ciudad-hogar-mar23', 'cinepolis2x1-2022', '15-bsf-super-ene23', '35-especial-bersa-jun23', '10-spv-puppis-may23', 'puntos-credicoop-jun23']}, 'output': {'recommendedItems': ['cafeterias-abr23', '20-bna-supers-mar23', 'santander-supermiercoles-jun23', 'vital-jun23', 'farmaciasonline-abr23', '20off-macro-pagos-jun23', 'semanamodo-jun23', '10-bna-combustible-mar23', '30-patagonia-bk-jun23', 'primeracompraonline', '10-patagonia-chango-jun23', 'mc-librerias-abr23', '35-bna-comerciosbarrio-mar23', '20-macro-carrefour-carterageneral-abril23', 'diarco-jun23', '10-bna-farmacias-mar23', '35-especial-bsf-jun23', '40-bbva-cafeterias-abril23', 'buenosdias-jun23', '30-patagonia-puppis-nov22', '25-macro-changohiper-preferencial-abril23', '35-bna-carnicerias-mar23', '25-bna-gastro-mar23', '15-bna-mayoristas-mar23', '30-macro-carrefour-selecta-abril23'], 'scores': [0.1362649, 0.129324, 0.1223511, 0.0794379, 0.0679021, 0.0653856, 0.0467482, 0.0320799, 0.0239095, 0.0147062, 0.0127134, 0.0118922, 0.0117787, 0.0104143, 0.0092782, 0.0090692, 0.0089138, 0.0083707, 0.0081737, 0.0079489, 0.0078126, 0.0077406, 0.0076701, 0.00759, 0.0075531]}, 'error': None}\n",
      "{'input': {'userId': '00ce3090-3db1-4862-b442-ebf4b4a3ba8d', 'itemList': ['diarco-jun23', 'bsf-ribera-ene23', 'cabal-gastro-jun23', '30-macro-carrefour-selecta-abril23', '10-patagonia-fudre-may23', 'karcher-jun23', 'bsf-dar-ene23', 'bersa_vea_ene2023', 'buenosdias-jun23', '10-spv-puppis-may233', '10-patagonia-chango-jun23', 'cabal-librerias-jun23', '18-macro-premia-junio23', '25-macro-changohiper-preferencial-abril23', '40-credicoop-unicen-may23', '10-santander-yenny-abril23', 'fiesta-bersa-jun23', 'fudre-feb23', '10-bna-perfumerias-ene23', '20-macro-carrefour-carterageneral-abril23', '30-patagonia-bk-jun23', '20off-bsf-gulliver-ene2023', '25-macro-carrefour-preferencial-abril23', '30-bbva-peluquerias-abril23', 'springwall-oct22', 'yoy-compra-abr23', '9-cuotas-nacion-hoteles-ene23', '20-itau-avoas-may23', '10-ciudad-gastronomia-nov22', 'cafeterias-abr23', '30-credi-supers-jun23', '10-spv-cuspide-may233', '10-ciudad-fudre-mar23', '15-bna-mayoristas-mar23', '30off_patagonia_cafeteria_ago2022', 'bsf_jumbo_ene2023', 'bica-compra-jun23', '10-spv-ensalud-jun23', '25-macro-yaguar-preferencial-abril23', '10-ciudad-patio-may23', '35-bna-carnicerias-mar23', '15-spv-bruta-jun23', '20off-girodidactico-bsf-ene2023', '30-bbva-jugueterias-marz23', 'clic-grupo-petersen-jun232', 'mc-librerias-abr23', '20off-bsf-shoppingdelsiglo-ene2023', '10-icbc-chango-mar23', '15-santander-rex-abril23', '30-patagonia-puppis-nov22', '20-macro-changohiper-carterageneral-abril23', 'bica_30_combustible_jun23', '25-bna-indumentaria-mar23', '25-macro-makro-preferencial-abril23', 'primeracompraonline', '30-bna-entretenimiento-mar23', 'santander-supermiercoles-jun23', 'bsf_gallega_ene2023', 'disfraces-bsf-jun23', 'disfraces-bersa-jun232', '10-supervielle-gulf-abr23', '20off-bsf-redsport-ene2023', 'cabal-indum-jun23', '40-bbva-cafeterias-abril23', '35-especial-bsc-jun23', '25-bna-librerias-mar23', '20off-macro-pagos-jun23', '30-macro-changohiper-selecta-abril23', '40-santander-opensports-abril23', '30-macro-yaguar-selecta-abril23', 'bsf-vea-ene23', '20-macro-yaguar-carterageneral-abril23', '20-bna-supers-mar23', '10-ciudad-indumentaria-mar23', 'farmaciasonline-abr23', '20-ciudad-banquito-ene23', '25-bna-gastro-mar23', '30-macro-makro-selecta-abril23', '20-bersa-beter-may23', '30-spv-desayunos-feb23', '20-bbva-farmaonline-abr23', '30-santander-chango-feb23', 'vital-jun23', '25-bna-jugueterias-mar23', '35-especial-bsj-jun23', 'cinepoliscandy-2022', '30-spv-chango-jun23', 'ciudad_juegueterias_oct22', '35-bna-comerciosbarrio-mar23', 'bsf-alverar-ene23', '35-especial-bsf-jun23', '10-bna-combustible-mar23', '10-spv-cuspide-may23', 'ciudad_librerias_oct22', '30-credicoop-mayoristas-jun232', '15_ciudad_combustible_oct22', 'cabal-desayunos-jun23', '30-patagonia-todo-dic22', 'definit-jun23', '15off-bersa-dar-ene2023', '25-itau-beegreen-feb23', '25-ciudad-cencosud-nov22', '20off-bsf-palacegarden-ene2023', '10-ciudad-desayunos-nov22', '20-macro-makro-carterageneral-abril23', 'semanamodo-jun23', '10-bna-farmacias-mar23', '10-ciudad-perfumerias-mar23', '20off-bersa-redsport-ene2023', '10-ciudad-hogar-mar23', 'cinepolis2x1-2022', '15-bsf-super-ene23', '35-especial-bersa-jun23', '10-spv-puppis-may23', 'puntos-credicoop-jun23']}, 'output': {'recommendedItems': ['santander-supermiercoles-jun23', 'semanamodo-jun23', 'cafeterias-abr23', 'vital-jun23', '20off-macro-pagos-jun23', 'farmaciasonline-abr23', '25-ciudad-cencosud-nov22', '30-patagonia-puppis-nov22', 'cinepolis2x1-2022', '30-patagonia-bk-jun23', '20-bna-supers-mar23', 'primeracompraonline', 'diarco-jun23', '40-bbva-cafeterias-abril23', '30-santander-chango-feb23', 'fudre-feb23', 'mc-librerias-abr23', '10-bna-combustible-mar23', '35-especial-bsf-jun23', 'buenosdias-jun23', '10-patagonia-chango-jun23', '30-bbva-peluquerias-abril23', '35-bna-comerciosbarrio-mar23', '40-santander-opensports-abril23', '20-bbva-farmaonline-abr23'], 'scores': [0.3307883, 0.2009014, 0.1443969, 0.1351991, 0.0985942, 0.0418007, 0.0109647, 0.0079221, 0.0046094, 0.0032439, 0.0030971, 0.0018434, 0.0012147, 0.0009324, 0.0008812, 0.0006837, 0.000645, 0.0005837, 0.0005203, 0.0005197, 0.0004704, 0.0004621, 0.0003841, 0.0003752, 0.0003748]}, 'error': None}\n"
     ]
    }
   ],
   "source": [
    "import copy\n",
    "\n",
    "dynamo_items = []\n",
    "\n",
    "for item in items[:5]:\n",
    "    print(item)\n",
    "    user_id = item[\"input\"][\"userId\"]\n",
    "    ranked_promos = zip(item[\"output\"][\"recommendedItems\"], item[\"output\"][\"scores\"])\n",
    "\n",
    "    dynamo_item = {\n",
    "        \"Item\":{\n",
    "            \"userId\":{\"S\": user_id},\n",
    "            \"items\":{\"L\":[]}\n",
    "        }\n",
    "    }\n",
    "    for promo_slug, score in ranked_promos:\n",
    "        dynamo_item[\"Item\"][\"items\"][\"L\"].append(\n",
    "            {\n",
    "                \"M\": {\n",
    "                    \"itemId\": {\"S\":promo_slug},\n",
    "                    \"score\": {\"N\": score}\n",
    "                }\n",
    "            }\n",
    "        )\n",
    "    dynamo_items.append(copy.deepcopy(dynamo_item))\n"
   ]
  },
  {
   "cell_type": "code",
   "execution_count": 60,
   "metadata": {},
   "outputs": [],
   "source": [
    "lines = [json.dumps(dynamo_item).replace(\" \", \"\") for dynamo_item in dynamo_items]"
   ]
  },
  {
   "cell_type": "code",
   "execution_count": 61,
   "metadata": {},
   "outputs": [
    {
     "data": {
      "text/plain": [
       "'{\"Item\":{\"userId\":{\"S\":\"00390c49-c9b8-401a-bf93-738df3316754\"},\"items\":{\"L\":[{\"M\":{\"S\":{\"itemId\":\"semanamodo-jun23\"},\"N\":{\"score\":0.4137042}}},{\"M\":{\"S\":{\"itemId\":\"farmaciasonline-abr23\"},\"N\":{\"score\":0.3394863}}},{\"M\":{\"S\":{\"itemId\":\"santander-supermiercoles-jun23\"},\"N\":{\"score\":0.0776529}}},{\"M\":{\"S\":{\"itemId\":\"vital-jun23\"},\"N\":{\"score\":0.0613462}}},{\"M\":{\"S\":{\"itemId\":\"cafeterias-abr23\"},\"N\":{\"score\":0.0567503}}},{\"M\":{\"S\":{\"itemId\":\"20off-macro-pagos-jun23\"},\"N\":{\"score\":0.0192455}}},{\"M\":{\"S\":{\"itemId\":\"25-ciudad-cencosud-nov22\"},\"N\":{\"score\":0.0089104}}},{\"M\":{\"S\":{\"itemId\":\"30-patagonia-puppis-nov22\"},\"N\":{\"score\":0.0035686}}},{\"M\":{\"S\":{\"itemId\":\"fudre-feb23\"},\"N\":{\"score\":0.0020579}}},{\"M\":{\"S\":{\"itemId\":\"20-bna-supers-mar23\"},\"N\":{\"score\":0.0019375}}},{\"M\":{\"S\":{\"itemId\":\"primeracompraonline\"},\"N\":{\"score\":0.0016034}}},{\"M\":{\"S\":{\"itemId\":\"20-bbva-farmaonline-abr23\"},\"N\":{\"score\":0.0013898}}},{\"M\":{\"S\":{\"itemId\":\"30-patagonia-bk-jun23\"},\"N\":{\"score\":0.0009462}}},{\"M\":{\"S\":{\"itemId\":\"diarco-jun23\"},\"N\":{\"score\":0.0007683}}},{\"M\":{\"S\":{\"itemId\":\"cinepolis2x1-2022\"},\"N\":{\"score\":0.0007291}}},{\"M\":{\"S\":{\"itemId\":\"10-bna-combustible-mar23\"},\"N\":{\"score\":0.000509}}},{\"M\":{\"S\":{\"itemId\":\"buenosdias-jun23\"},\"N\":{\"score\":0.0005079}}},{\"M\":{\"S\":{\"itemId\":\"40-bbva-cafeterias-abril23\"},\"N\":{\"score\":0.000486}}},{\"M\":{\"S\":{\"itemId\":\"mc-librerias-abr23\"},\"N\":{\"score\":0.0004847}}},{\"M\":{\"S\":{\"itemId\":\"10-bna-farmacias-mar23\"},\"N\":{\"score\":0.0004309}}},{\"M\":{\"S\":{\"itemId\":\"springwall-oct22\"},\"N\":{\"score\":0.0003561}}},{\"M\":{\"S\":{\"itemId\":\"10-patagonia-chango-jun23\"},\"N\":{\"score\":0.0003366}}},{\"M\":{\"S\":{\"itemId\":\"30-santander-chango-feb23\"},\"N\":{\"score\":0.0002822}}},{\"M\":{\"S\":{\"itemId\":\"35-bna-comerciosbarrio-mar23\"},\"N\":{\"score\":0.0002751}}},{\"M\":{\"S\":{\"itemId\":\"definit-jun23\"},\"N\":{\"score\":0.000268}}}]}}}'"
      ]
     },
     "execution_count": 61,
     "metadata": {},
     "output_type": "execute_result"
    }
   ],
   "source": [
    "lines[0]"
   ]
  },
  {
   "cell_type": "code",
   "execution_count": 62,
   "metadata": {},
   "outputs": [],
   "source": [
    "with open(DATA_DIR / \"parsed.json\", \"w\", encoding=\"utf-8\") as f:\n",
    "    for line in lines:\n",
    "        f.write(line + \"\\n\")"
   ]
  },
  {
   "cell_type": "code",
   "execution_count": null,
   "metadata": {},
   "outputs": [],
   "source": []
  }
 ],
 "metadata": {
  "interpreter": {
   "hash": "3ea6ed51ea6f425be360bb9fdd5cef85dc80933cab3801b73250c70e567767ea"
  },
  "kernelspec": {
   "display_name": "Python 3.9.15 64-bit ('ecd-trabajo-final-UlVdN89U-py3.9': poetry)",
   "language": "python",
   "name": "python3"
  },
  "language_info": {
   "codemirror_mode": {
    "name": "ipython",
    "version": 3
   },
   "file_extension": ".py",
   "mimetype": "text/x-python",
   "name": "python",
   "nbconvert_exporter": "python",
   "pygments_lexer": "ipython3",
   "version": "3.9.15"
  },
  "orig_nbformat": 4
 },
 "nbformat": 4,
 "nbformat_minor": 2
}
