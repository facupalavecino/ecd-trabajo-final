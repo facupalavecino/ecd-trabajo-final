{
 "cells": [
  {
   "attachments": {},
   "cell_type": "markdown",
   "metadata": {},
   "source": [
    "# 3D Molchanov"
   ]
  },
  {
   "cell_type": "code",
   "execution_count": 1,
   "metadata": {},
   "outputs": [],
   "source": [
    "import logging\n",
    "\n",
    "logging.basicConfig(level=logging.INFO)\n",
    "\n",
    "logger = logging.getLogger(__name__)"
   ]
  },
  {
   "cell_type": "code",
   "execution_count": 2,
   "metadata": {},
   "outputs": [],
   "source": [
    "from recognizer.utils.constants import ROOT_DIR, TARGET_TO_ENCODING\n",
    "from recognizer.utils.utils import get_metadata_from_filename\n",
    "\n",
    "DATASET_DIR_POSTA = ROOT_DIR / \"data\" / \"all-20percent\""
   ]
  },
  {
   "cell_type": "code",
   "execution_count": 3,
   "metadata": {},
   "outputs": [],
   "source": [
    "BATCH_SIZE = 24\n",
    "NUM_CLASSES = 64\n",
    "EPOCHS = 10"
   ]
  },
  {
   "attachments": {},
   "cell_type": "markdown",
   "metadata": {},
   "source": [
    "## Load Data"
   ]
  },
  {
   "cell_type": "code",
   "execution_count": 4,
   "metadata": {},
   "outputs": [
    {
     "data": {
      "text/html": [
       "<div>\n",
       "<style scoped>\n",
       "    .dataframe tbody tr th:only-of-type {\n",
       "        vertical-align: middle;\n",
       "    }\n",
       "\n",
       "    .dataframe tbody tr th {\n",
       "        vertical-align: top;\n",
       "    }\n",
       "\n",
       "    .dataframe thead th {\n",
       "        text-align: right;\n",
       "    }\n",
       "</style>\n",
       "<table border=\"1\" class=\"dataframe\">\n",
       "  <thead>\n",
       "    <tr style=\"text-align: right;\">\n",
       "      <th></th>\n",
       "      <th>target</th>\n",
       "      <th>subject</th>\n",
       "      <th>repetition</th>\n",
       "      <th>file</th>\n",
       "      <th>target_encoding</th>\n",
       "    </tr>\n",
       "  </thead>\n",
       "  <tbody>\n",
       "    <tr>\n",
       "      <th>0</th>\n",
       "      <td>008</td>\n",
       "      <td>010</td>\n",
       "      <td>003</td>\n",
       "      <td>/Users/facundopalavecino/Documents/DEV/ecd-tra...</td>\n",
       "      <td>7</td>\n",
       "    </tr>\n",
       "    <tr>\n",
       "      <th>1</th>\n",
       "      <td>023</td>\n",
       "      <td>001</td>\n",
       "      <td>003</td>\n",
       "      <td>/Users/facundopalavecino/Documents/DEV/ecd-tra...</td>\n",
       "      <td>22</td>\n",
       "    </tr>\n",
       "    <tr>\n",
       "      <th>2</th>\n",
       "      <td>039</td>\n",
       "      <td>003</td>\n",
       "      <td>005</td>\n",
       "      <td>/Users/facundopalavecino/Documents/DEV/ecd-tra...</td>\n",
       "      <td>38</td>\n",
       "    </tr>\n",
       "    <tr>\n",
       "      <th>3</th>\n",
       "      <td>051</td>\n",
       "      <td>005</td>\n",
       "      <td>002</td>\n",
       "      <td>/Users/facundopalavecino/Documents/DEV/ecd-tra...</td>\n",
       "      <td>50</td>\n",
       "    </tr>\n",
       "    <tr>\n",
       "      <th>4</th>\n",
       "      <td>010</td>\n",
       "      <td>007</td>\n",
       "      <td>001</td>\n",
       "      <td>/Users/facundopalavecino/Documents/DEV/ecd-tra...</td>\n",
       "      <td>9</td>\n",
       "    </tr>\n",
       "  </tbody>\n",
       "</table>\n",
       "</div>"
      ],
      "text/plain": [
       "  target subject repetition  \\\n",
       "0    008     010        003   \n",
       "1    023     001        003   \n",
       "2    039     003        005   \n",
       "3    051     005        002   \n",
       "4    010     007        001   \n",
       "\n",
       "                                                file  target_encoding  \n",
       "0  /Users/facundopalavecino/Documents/DEV/ecd-tra...                7  \n",
       "1  /Users/facundopalavecino/Documents/DEV/ecd-tra...               22  \n",
       "2  /Users/facundopalavecino/Documents/DEV/ecd-tra...               38  \n",
       "3  /Users/facundopalavecino/Documents/DEV/ecd-tra...               50  \n",
       "4  /Users/facundopalavecino/Documents/DEV/ecd-tra...                9  "
      ]
     },
     "execution_count": 4,
     "metadata": {},
     "output_type": "execute_result"
    }
   ],
   "source": [
    "import os\n",
    "\n",
    "import pandas as pd\n",
    "\n",
    "targets = []\n",
    "subjects = []\n",
    "repetitions = []\n",
    "files = []\n",
    "\n",
    "for file in os.listdir(DATASET_DIR_POSTA):\n",
    "\n",
    "    target, subject, repetition = get_metadata_from_filename(file)\n",
    "\n",
    "    targets.append(target)\n",
    "    subjects.append(subject)\n",
    "    repetitions.append(repetition)\n",
    "    files.append(str((DATASET_DIR_POSTA / file).resolve()))\n",
    "\n",
    "\n",
    "metadata = pd.DataFrame(\n",
    "    data={\n",
    "        \"target\": targets,\n",
    "        \"subject\": subjects,\n",
    "        \"repetition\": repetitions,\n",
    "        \"file\": files,\n",
    "    }\n",
    ")\n",
    "\n",
    "metadata[\"target_encoding\"] = metadata[\"target\"].map(TARGET_TO_ENCODING)\n",
    "\n",
    "metadata.head()"
   ]
  },
  {
   "attachments": {},
   "cell_type": "markdown",
   "metadata": {},
   "source": [
    "### Train/Test split"
   ]
  },
  {
   "cell_type": "code",
   "execution_count": 5,
   "metadata": {},
   "outputs": [],
   "source": [
    "import numpy as np\n",
    "\n",
    "size = 1\n",
    "replace = False\n",
    "fn = lambda obj: obj.loc[np.random.choice(obj.index, size, replace),:]\n",
    "\n",
    "testing_set = metadata.groupby([\"target\", \"subject\"], as_index=False).apply(fn)\n",
    "\n",
    "testing_set.index = testing_set.index.droplevel(0)\n",
    "\n",
    "training_set = metadata.loc[~metadata.index.isin(testing_set.index), :]"
   ]
  },
  {
   "attachments": {},
   "cell_type": "markdown",
   "metadata": {},
   "source": [
    "### Pre-processing functions"
   ]
  },
  {
   "cell_type": "code",
   "execution_count": 6,
   "metadata": {},
   "outputs": [],
   "source": [
    "def transform(x):\n",
    "    \"\"\"Permutes the element to match the format expected by PyTorch: (C<channels>, T<frames>, H<height>, W<width>)\"\"\"\n",
    "    # Transpose video from (T<frames>, H<height>, W<width>, C<channels>) to (C<channels>, T<frames>, H<height>, W<width>)\n",
    "    return x.permute(3, 0, 1, 2).float()\n"
   ]
  },
  {
   "attachments": {},
   "cell_type": "markdown",
   "metadata": {},
   "source": [
    "### Datasets"
   ]
  },
  {
   "cell_type": "code",
   "execution_count": 7,
   "metadata": {},
   "outputs": [
    {
     "name": "stdout",
     "output_type": "stream",
     "text": [
      "Training/testing set: (2560, 640)\n"
     ]
    }
   ],
   "source": [
    "from recognizer.dataset import SampledVideoDataset\n",
    "\n",
    "training_dataset = SampledVideoDataset(\n",
    "    video_filenames=training_set[\"file\"].values,\n",
    "    labels=training_set[\"target_encoding\"].values,\n",
    "    num_frames=16,\n",
    "    transform=transform,\n",
    ")\n",
    "\n",
    "testing_dataset = SampledVideoDataset(\n",
    "    video_filenames=testing_set[\"file\"].values,\n",
    "    labels=testing_set[\"target_encoding\"].values,\n",
    "    num_frames=16,\n",
    "    transform=transform,\n",
    ")\n",
    "\n",
    "print(f\"Training/testing set: ({len(training_dataset)}, {len(testing_dataset)})\")"
   ]
  },
  {
   "attachments": {},
   "cell_type": "markdown",
   "metadata": {},
   "source": [
    "### Data Loaders"
   ]
  },
  {
   "cell_type": "code",
   "execution_count": 8,
   "metadata": {},
   "outputs": [
    {
     "data": {
      "text/plain": [
       "Molchanov3DCNN(\n",
       "  (conv_layer_1): Sequential(\n",
       "    (0): Conv3d(3, 3, kernel_size=(5, 5, 5), stride=(1, 1, 1))\n",
       "    (1): ReLU(inplace=True)\n",
       "    (2): MaxPool3d(kernel_size=2, stride=2, padding=0, dilation=1, ceil_mode=False)\n",
       "  )\n",
       "  (conv_layer_2): Sequential(\n",
       "    (0): Conv3d(3, 5, kernel_size=(3, 3, 3), stride=(1, 1, 1))\n",
       "    (1): ReLU(inplace=True)\n",
       "    (2): MaxPool3d(kernel_size=2, stride=2, padding=0, dilation=1, ceil_mode=False)\n",
       "  )\n",
       "  (fc_layer): Sequential(\n",
       "    (0): Linear(in_features=48880, out_features=100, bias=True)\n",
       "    (1): ReLU(inplace=True)\n",
       "    (2): Dropout(p=0.5, inplace=False)\n",
       "    (3): Linear(in_features=100, out_features=64, bias=True)\n",
       "  )\n",
       ")"
      ]
     },
     "execution_count": 8,
     "metadata": {},
     "output_type": "execute_result"
    }
   ],
   "source": [
    "import torch \n",
    "\n",
    "from torch import nn\n",
    "\n",
    "from recognizer.models.molchanov_3d import Molchanov3DCNN\n",
    "\n",
    "# Las imágenes del video son de 384x216 \n",
    "# Hay 8 frames por video\n",
    "\n",
    "# Es decir que cada elemento inut será de 3x8x216x382 (C<channels> * T<frames> * H<height> * W<width>)\n",
    "# Eso es un total de \n",
    "\n",
    "model = Molchanov3DCNN(\n",
    "    num_classes=NUM_CLASSES,\n",
    "    num_frames=8,\n",
    "    batch_size=BATCH_SIZE,\n",
    ")\n",
    "\n",
    "train_loader = torch.utils.data.DataLoader(training_dataset, batch_size=BATCH_SIZE, shuffle = False)\n",
    "\n",
    "test_loader = torch.utils.data.DataLoader(testing_dataset, batch_size=BATCH_SIZE, shuffle = False)\n",
    "\n",
    "loss_function = nn.CrossEntropyLoss()\n",
    "\n",
    "learning_rate = 0.001\n",
    "\n",
    "optimizer = torch.optim.Adam(model.parameters(), lr=learning_rate)\n",
    "\n",
    "device = (\n",
    "    \"cuda\"\n",
    "    if torch.cuda.is_available()\n",
    "    else \"mps\"\n",
    "    if torch.backends.mps.is_available()\n",
    "    else \"cpu\"\n",
    ")\n",
    "device = \"cpu\" # RuntimeError: Conv3D is not supported on MPS\n",
    "\n",
    "model.to(device)\n"
   ]
  },
  {
   "attachments": {},
   "cell_type": "markdown",
   "metadata": {},
   "source": [
    "## Training"
   ]
  },
  {
   "cell_type": "code",
   "execution_count": 9,
   "metadata": {},
   "outputs": [],
   "source": [
    "import subprocess\n",
    "\n",
    "CMD = '''\n",
    "on run argv\n",
    "  display notification (item 2 of argv) with title (item 1 of argv) sound name \"Glass\"\n",
    "end run\n",
    "'''\n",
    "\n",
    "def notify(title, text):\n",
    "    subprocess.call(['osascript', '-e', CMD, title, text])"
   ]
  },
  {
   "cell_type": "code",
   "execution_count": 10,
   "metadata": {},
   "outputs": [],
   "source": [
    "from sklearn.metrics import (\n",
    "    accuracy_score,\n",
    "    precision_score,\n",
    "    recall_score,\n",
    "    f1_score,\n",
    "    confusion_matrix\n",
    ")\n",
    "\n",
    "training_losses = []\n",
    "testing_losses = []\n",
    "\n",
    "accuracies = []\n",
    "precisions = []\n",
    "recalls = []\n",
    "f1s = []\n",
    "cm = None"
   ]
  },
  {
   "cell_type": "code",
   "execution_count": 11,
   "metadata": {},
   "outputs": [
    {
     "name": "stderr",
     "output_type": "stream",
     "text": [
      "INFO:__main__:\n",
      "        Beginning model training with parameters:\n",
      "        - Epochs: 10\n",
      "        - Batch Size: 24\n",
      "    \n",
      "INFO:__main__:Epoch 1 - Training\n",
      "INFO:__main__:AVG Training Loss: 4.81\n",
      "INFO:__main__:Epoch 1 - Evaluation\n",
      "/Users/facundopalavecino/Library/Caches/pypoetry/virtualenvs/recognizer-UlVdN89U-py3.9/lib/python3.9/site-packages/sklearn/metrics/_classification.py:1344: UndefinedMetricWarning: Precision is ill-defined and being set to 0.0 in labels with no predicted samples. Use `zero_division` parameter to control this behavior.\n",
      "  _warn_prf(average, modifier, msg_start, len(result))\n",
      "INFO:__main__:\n",
      "Epoch 0:\n",
      "    - Accuracy  : 0.01875\n",
      "    - Precision : 0.010704419889502761\n",
      "    - Recall    : 0.01875\n",
      "    - F1        : 0.005372791765196828\n",
      "    \n",
      "INFO:__main__:\n",
      "        Beginning model training with parameters:\n",
      "        - Epochs: 10\n",
      "        - Batch Size: 24\n",
      "    \n",
      "INFO:__main__:Epoch 2 - Training\n",
      "INFO:__main__:AVG Training Loss: 4.16\n",
      "INFO:__main__:Epoch 2 - Evaluation\n",
      "/Users/facundopalavecino/Library/Caches/pypoetry/virtualenvs/recognizer-UlVdN89U-py3.9/lib/python3.9/site-packages/sklearn/metrics/_classification.py:1344: UndefinedMetricWarning: Precision is ill-defined and being set to 0.0 in labels with no predicted samples. Use `zero_division` parameter to control this behavior.\n",
      "  _warn_prf(average, modifier, msg_start, len(result))\n",
      "INFO:__main__:\n",
      "Epoch 1:\n",
      "    - Accuracy  : 0.028125\n",
      "    - Precision : 0.05533143064190892\n",
      "    - Recall    : 0.028125\n",
      "    - F1        : 0.0181537307217888\n",
      "    \n",
      "INFO:__main__:\n",
      "        Beginning model training with parameters:\n",
      "        - Epochs: 10\n",
      "        - Batch Size: 24\n",
      "    \n",
      "INFO:__main__:Epoch 3 - Training\n",
      "INFO:__main__:AVG Training Loss: 4.15\n",
      "INFO:__main__:Epoch 3 - Evaluation\n",
      "/Users/facundopalavecino/Library/Caches/pypoetry/virtualenvs/recognizer-UlVdN89U-py3.9/lib/python3.9/site-packages/sklearn/metrics/_classification.py:1344: UndefinedMetricWarning: Precision is ill-defined and being set to 0.0 in labels with no predicted samples. Use `zero_division` parameter to control this behavior.\n",
      "  _warn_prf(average, modifier, msg_start, len(result))\n",
      "INFO:__main__:\n",
      "Epoch 2:\n",
      "    - Accuracy  : 0.0265625\n",
      "    - Precision : 0.02092834660842754\n",
      "    - Recall    : 0.026562500000000003\n",
      "    - F1        : 0.009343106631632651\n",
      "    \n",
      "INFO:__main__:\n",
      "        Beginning model training with parameters:\n",
      "        - Epochs: 10\n",
      "        - Batch Size: 24\n",
      "    \n",
      "INFO:__main__:Epoch 4 - Training\n",
      "INFO:__main__:AVG Training Loss: 4.05\n",
      "INFO:__main__:Epoch 4 - Evaluation\n",
      "/Users/facundopalavecino/Library/Caches/pypoetry/virtualenvs/recognizer-UlVdN89U-py3.9/lib/python3.9/site-packages/sklearn/metrics/_classification.py:1344: UndefinedMetricWarning: Precision is ill-defined and being set to 0.0 in labels with no predicted samples. Use `zero_division` parameter to control this behavior.\n",
      "  _warn_prf(average, modifier, msg_start, len(result))\n",
      "INFO:__main__:\n",
      "Epoch 3:\n",
      "    - Accuracy  : 0.078125\n",
      "    - Precision : 0.06870003628434176\n",
      "    - Recall    : 0.078125\n",
      "    - F1        : 0.04474182679412645\n",
      "    \n",
      "INFO:__main__:\n",
      "        Beginning model training with parameters:\n",
      "        - Epochs: 10\n",
      "        - Batch Size: 24\n",
      "    \n",
      "INFO:__main__:Epoch 5 - Training\n",
      "INFO:__main__:AVG Training Loss: 3.75\n",
      "INFO:__main__:Epoch 5 - Evaluation\n",
      "/Users/facundopalavecino/Library/Caches/pypoetry/virtualenvs/recognizer-UlVdN89U-py3.9/lib/python3.9/site-packages/sklearn/metrics/_classification.py:1344: UndefinedMetricWarning: Precision is ill-defined and being set to 0.0 in labels with no predicted samples. Use `zero_division` parameter to control this behavior.\n",
      "  _warn_prf(average, modifier, msg_start, len(result))\n",
      "INFO:__main__:\n",
      "Epoch 4:\n",
      "    - Accuracy  : 0.2078125\n",
      "    - Precision : 0.2157475029944032\n",
      "    - Recall    : 0.20781249999999998\n",
      "    - F1        : 0.1829221375123059\n",
      "    \n",
      "INFO:__main__:\n",
      "        Beginning model training with parameters:\n",
      "        - Epochs: 10\n",
      "        - Batch Size: 24\n",
      "    \n",
      "INFO:__main__:Epoch 6 - Training\n",
      "INFO:__main__:AVG Training Loss: 3.29\n",
      "INFO:__main__:Epoch 6 - Evaluation\n",
      "/Users/facundopalavecino/Library/Caches/pypoetry/virtualenvs/recognizer-UlVdN89U-py3.9/lib/python3.9/site-packages/sklearn/metrics/_classification.py:1344: UndefinedMetricWarning: Precision is ill-defined and being set to 0.0 in labels with no predicted samples. Use `zero_division` parameter to control this behavior.\n",
      "  _warn_prf(average, modifier, msg_start, len(result))\n",
      "INFO:__main__:\n",
      "Epoch 5:\n",
      "    - Accuracy  : 0.3484375\n",
      "    - Precision : 0.362272032374663\n",
      "    - Recall    : 0.34843750000000007\n",
      "    - F1        : 0.31715476940218723\n",
      "    \n",
      "INFO:__main__:\n",
      "        Beginning model training with parameters:\n",
      "        - Epochs: 10\n",
      "        - Batch Size: 24\n",
      "    \n",
      "INFO:__main__:Epoch 7 - Training\n",
      "INFO:__main__:AVG Training Loss: 2.80\n",
      "INFO:__main__:Epoch 7 - Evaluation\n",
      "/Users/facundopalavecino/Library/Caches/pypoetry/virtualenvs/recognizer-UlVdN89U-py3.9/lib/python3.9/site-packages/sklearn/metrics/_classification.py:1344: UndefinedMetricWarning: Precision is ill-defined and being set to 0.0 in labels with no predicted samples. Use `zero_division` parameter to control this behavior.\n",
      "  _warn_prf(average, modifier, msg_start, len(result))\n",
      "INFO:__main__:\n",
      "Epoch 6:\n",
      "    - Accuracy  : 0.509375\n",
      "    - Precision : 0.5378504162921123\n",
      "    - Recall    : 0.5093750000000001\n",
      "    - F1        : 0.4928729899751456\n",
      "    \n",
      "INFO:__main__:\n",
      "        Beginning model training with parameters:\n",
      "        - Epochs: 10\n",
      "        - Batch Size: 24\n",
      "    \n",
      "INFO:__main__:Epoch 8 - Training\n",
      "INFO:__main__:AVG Training Loss: 2.35\n",
      "INFO:__main__:Epoch 8 - Evaluation\n",
      "INFO:__main__:\n",
      "Epoch 7:\n",
      "    - Accuracy  : 0.6078125\n",
      "    - Precision : 0.6754269402885833\n",
      "    - Recall    : 0.6078125\n",
      "    - F1        : 0.5987590980897737\n",
      "    \n",
      "INFO:__main__:\n",
      "        Beginning model training with parameters:\n",
      "        - Epochs: 10\n",
      "        - Batch Size: 24\n",
      "    \n",
      "INFO:__main__:Epoch 9 - Training\n",
      "INFO:__main__:AVG Training Loss: 2.06\n",
      "INFO:__main__:Epoch 9 - Evaluation\n",
      "INFO:__main__:\n",
      "Epoch 8:\n",
      "    - Accuracy  : 0.69375\n",
      "    - Precision : 0.7223685602591853\n",
      "    - Recall    : 0.6937500000000001\n",
      "    - F1        : 0.6879735665999638\n",
      "    \n",
      "INFO:__main__:\n",
      "        Beginning model training with parameters:\n",
      "        - Epochs: 10\n",
      "        - Batch Size: 24\n",
      "    \n",
      "INFO:__main__:Epoch 10 - Training\n",
      "INFO:__main__:AVG Training Loss: 1.75\n",
      "INFO:__main__:Epoch 10 - Evaluation\n",
      "INFO:__main__:\n",
      "Epoch 9:\n",
      "    - Accuracy  : 0.7375\n",
      "    - Precision : 0.7712427622928542\n",
      "    - Recall    : 0.7375\n",
      "    - F1        : 0.7310391593586412\n",
      "    \n"
     ]
    }
   ],
   "source": [
    "for epoch in range(EPOCHS):\n",
    "\n",
    "    logger.info(f\"\"\"\n",
    "        Beginning model training with parameters:\n",
    "        - Epochs: {EPOCHS}\n",
    "        - Batch Size: {BATCH_SIZE}\n",
    "    \"\"\")\n",
    "\n",
    "    logger.info(f\"Epoch {epoch + 1} - Training\")\n",
    "\n",
    "    model.train()\n",
    "\n",
    "    running_loss = 0.0\n",
    "\n",
    "    for _, data in enumerate(train_loader):\n",
    "\n",
    "        batch, labels = data[0].float(), data[1]\n",
    "        batch = batch.to(device)\n",
    "        labels = labels.to(device)\n",
    "\n",
    "        optimizer.zero_grad()\n",
    "\n",
    "        logits = model(batch)\n",
    "\n",
    "        loss = loss_function(logits, labels)\n",
    "        running_loss += loss.item()\n",
    "\n",
    "        loss.backward()\n",
    "        optimizer.step()\n",
    "\n",
    "    average_training_loss = running_loss / len(train_loader)\n",
    "    training_losses.append(average_training_loss)\n",
    "\n",
    "    logger.info(f\"AVG Training Loss: {average_training_loss:.2f}\")\n",
    "\n",
    "    # Evaluation\n",
    "    logger.info(f\"Epoch {epoch + 1} - Evaluation\")\n",
    "\n",
    "    model.eval()\n",
    "\n",
    "    all_preds = []\n",
    "    all_targets = []\n",
    "\n",
    "    running_loss = 0.0\n",
    "\n",
    "    with torch.no_grad():\n",
    "        for data in test_loader:\n",
    "            inputs, labels = data[0].float(), data[1]\n",
    "            inputs = inputs.to(device)\n",
    "            labels = labels.to(device)\n",
    "\n",
    "            logits = model(inputs)\n",
    "\n",
    "            _, preds = torch.max(logits, 1)\n",
    "\n",
    "            all_preds.extend(preds.cpu())\n",
    "            all_targets.extend(labels.cpu())\n",
    "\n",
    "            loss = loss_function(logits, labels)\n",
    "            running_loss += loss.item()\n",
    "\n",
    "    average_testing_loss = running_loss / len(train_loader)\n",
    "    testing_losses.append(average_testing_loss)\n",
    "\n",
    "    all_preds = np.array(all_preds)\n",
    "    all_targets = np.array(all_targets)\n",
    "\n",
    "    accuracies.append(accuracy_score(all_targets, all_preds))\n",
    "    precisions.append(precision_score(all_targets, all_preds, average=\"macro\"))\n",
    "    recalls.append(recall_score(all_targets, all_preds, average=\"macro\"))\n",
    "    f1s.append(f1_score(all_targets, all_preds, average=\"macro\"))\n",
    "\n",
    "    if epoch == EPOCHS - 1:\n",
    "        cm = confusion_matrix(all_targets, all_preds)\n",
    "\n",
    "    logger.info(f\"\"\"\n",
    "Epoch {epoch}:\n",
    "    - Accuracy  : {accuracies[-1]}\n",
    "    - Precision : {precisions[-1]}\n",
    "    - Recall    : {recalls[-1]}\n",
    "    - F1        : {f1s[-1]}\n",
    "    \"\"\")\n",
    "\n",
    "notify(\"Jupyterlab\", \"Entrenamiento del modelo terminado.\")"
   ]
  },
  {
   "attachments": {},
   "cell_type": "markdown",
   "metadata": {},
   "source": [
    "## Evaluation"
   ]
  },
  {
   "attachments": {},
   "cell_type": "markdown",
   "metadata": {},
   "source": [
    "### Confusion Matrix"
   ]
  },
  {
   "cell_type": "code",
   "execution_count": 12,
   "metadata": {},
   "outputs": [],
   "source": [
    "cm = confusion_matrix(all_targets, all_preds)"
   ]
  },
  {
   "cell_type": "code",
   "execution_count": 13,
   "metadata": {},
   "outputs": [
    {
     "data": {
      "text/plain": [
       "<AxesSubplot: >"
      ]
     },
     "execution_count": 13,
     "metadata": {},
     "output_type": "execute_result"
    },
    {
     "data": {
      "image/png": "[encoded data removed]",
      "text/plain": [
       "<Figure size 640x480 with 2 Axes>"
      ]
     },
     "metadata": {},
     "output_type": "display_data"
    }
   ],
   "source": [
    "import seaborn as sns\n",
    "\n",
    "sns.heatmap(data=cm)"
   ]
  },
  {
   "attachments": {},
   "cell_type": "markdown",
   "metadata": {},
   "source": [
    "### Accuracy/Recall/Precision"
   ]
  },
  {
   "cell_type": "code",
   "execution_count": 19,
   "metadata": {},
   "outputs": [
    {
     "data": {
      "image/png": "[encoded data removed]",
      "text/plain": [
       "<Figure size 800x400 with 1 Axes>"
      ]
     },
     "metadata": {},
     "output_type": "display_data"
    }
   ],
   "source": [
    "import matplotlib.pyplot as plt\n",
    "\n",
    "fig, ax = plt.subplots(1, 1, figsize=(8,4))\n",
    "\n",
    "ax.plot(accuracies, label=\"Accuracy\", marker=\".\")\n",
    "ax.plot(precisions, label=\"Precision\", marker=\".\")\n",
    "ax.plot(recalls, label=\"Recall\", marker=\".\")\n",
    "ax.plot(f1s, label=\"F1\", marker=\".\")\n",
    "\n",
    "ax.set_xticks(range(0, epoch+1))\n",
    "ax.set_xticklabels(range(1, epoch+2))\n",
    "ax.set_yticks(np.arange(0, 1.1, 0.1))\n",
    "ax.set_yticklabels(np.arange(0, 1.1, 0.1))\n",
    "ax.set_xlabel(\"Epoch\")\n",
    "ax.legend()\n",
    "ax.grid(alpha=0.1)\n",
    "plt.show()"
   ]
  },
  {
   "attachments": {},
   "cell_type": "markdown",
   "metadata": {},
   "source": [
    "### Loss"
   ]
  },
  {
   "cell_type": "code",
   "execution_count": 15,
   "metadata": {},
   "outputs": [
    {
     "data": {
      "image/png": "[encoded data removed]",
      "text/plain": [
       "<Figure size 800x400 with 1 Axes>"
      ]
     },
     "metadata": {},
     "output_type": "display_data"
    }
   ],
   "source": [
    "import matplotlib.pyplot as plt\n",
    "\n",
    "fig, ax = plt.subplots(1, 1, figsize=(8,4))\n",
    "\n",
    "ax.plot(training_losses, label=\"Training Loss\", marker=\".\", color=\"steelblue\")\n",
    "ax.plot(testing_losses, label=\"Evaluation Loss\", marker=\".\", color=\"orange\")\n",
    "\n",
    "ax.set_xticks(range(0, epoch+1))\n",
    "ax.set_xticklabels(range(1, epoch+2))\n",
    "ax.set_xlabel(\"Epoch\")\n",
    "ax.legend()\n",
    "ax.grid(alpha=0.1)\n",
    "plt.show()"
   ]
  },
  {
   "attachments": {},
   "cell_type": "markdown",
   "metadata": {},
   "source": [
    "## Save model"
   ]
  },
  {
   "cell_type": "code",
   "execution_count": 16,
   "metadata": {},
   "outputs": [],
   "source": [
    "from recognizer.utils.constants import ROOT_DIR\n",
    "\n",
    "MODELS_DIR = ROOT_DIR / \"models\"\n",
    "\n",
    "MODEL_PATH = MODELS_DIR / \"molchanov_3d_01.pth\"\n",
    "\n",
    "with open(MODEL_PATH, \"w\") as f:\n",
    "        f.write(\"\")\n",
    "\n",
    "torch.save(model, f=MODEL_PATH)"
   ]
  }
 ],
 "metadata": {
  "kernelspec": {
   "display_name": "recognizer-UlVdN89U-py3.9",
   "language": "python",
   "name": "python3"
  },
  "language_info": {
   "codemirror_mode": {
    "name": "ipython",
    "version": 3
   },
   "file_extension": ".py",
   "mimetype": "text/x-python",
   "name": "python",
   "nbconvert_exporter": "python",
   "pygments_lexer": "ipython3",
   "version": "3.9.15"
  },
  "orig_nbformat": 4
 },
 "nbformat": 4,
 "nbformat_minor": 2
}
