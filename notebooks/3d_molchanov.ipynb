{
 "cells": [
  {
   "attachments": {},
   "cell_type": "markdown",
   "metadata": {},
   "source": [
    "# 3D Molchanov"
   ]
  },
  {
   "cell_type": "code",
   "execution_count": 1,
   "metadata": {},
   "outputs": [],
   "source": [
    "import logging\n",
    "\n",
    "logging.basicConfig(level=logging.INFO)\n",
    "\n",
    "logger = logging.getLogger(__name__)"
   ]
  },
  {
   "cell_type": "code",
   "execution_count": 2,
   "metadata": {},
   "outputs": [],
   "source": [
    "from recognizer.utils.constants import ROOT_DIR, TARGET_TO_ENCODING\n",
    "from recognizer.utils.utils import get_metadata_from_filename\n",
    "\n",
    "DATASET_DIR_POSTA = ROOT_DIR / \"data\" / \"all-20percent\""
   ]
  },
  {
   "attachments": {},
   "cell_type": "markdown",
   "metadata": {},
   "source": [
    "## Load Data"
   ]
  },
  {
   "cell_type": "code",
   "execution_count": 3,
   "metadata": {},
   "outputs": [
    {
     "data": {
      "text/html": [
       "<div>\n",
       "<style scoped>\n",
       "    .dataframe tbody tr th:only-of-type {\n",
       "        vertical-align: middle;\n",
       "    }\n",
       "\n",
       "    .dataframe tbody tr th {\n",
       "        vertical-align: top;\n",
       "    }\n",
       "\n",
       "    .dataframe thead th {\n",
       "        text-align: right;\n",
       "    }\n",
       "</style>\n",
       "<table border=\"1\" class=\"dataframe\">\n",
       "  <thead>\n",
       "    <tr style=\"text-align: right;\">\n",
       "      <th></th>\n",
       "      <th>target</th>\n",
       "      <th>subject</th>\n",
       "      <th>repetition</th>\n",
       "      <th>file</th>\n",
       "      <th>target_encoding</th>\n",
       "    </tr>\n",
       "  </thead>\n",
       "  <tbody>\n",
       "    <tr>\n",
       "      <th>0</th>\n",
       "      <td>001</td>\n",
       "      <td>001</td>\n",
       "      <td>001</td>\n",
       "      <td>C:\\Users\\facun\\Desktop\\DEV\\ecd-trabajo-final\\d...</td>\n",
       "      <td>0</td>\n",
       "    </tr>\n",
       "    <tr>\n",
       "      <th>1</th>\n",
       "      <td>001</td>\n",
       "      <td>001</td>\n",
       "      <td>002</td>\n",
       "      <td>C:\\Users\\facun\\Desktop\\DEV\\ecd-trabajo-final\\d...</td>\n",
       "      <td>0</td>\n",
       "    </tr>\n",
       "    <tr>\n",
       "      <th>2</th>\n",
       "      <td>001</td>\n",
       "      <td>001</td>\n",
       "      <td>003</td>\n",
       "      <td>C:\\Users\\facun\\Desktop\\DEV\\ecd-trabajo-final\\d...</td>\n",
       "      <td>0</td>\n",
       "    </tr>\n",
       "    <tr>\n",
       "      <th>3</th>\n",
       "      <td>001</td>\n",
       "      <td>001</td>\n",
       "      <td>004</td>\n",
       "      <td>C:\\Users\\facun\\Desktop\\DEV\\ecd-trabajo-final\\d...</td>\n",
       "      <td>0</td>\n",
       "    </tr>\n",
       "    <tr>\n",
       "      <th>4</th>\n",
       "      <td>001</td>\n",
       "      <td>001</td>\n",
       "      <td>005</td>\n",
       "      <td>C:\\Users\\facun\\Desktop\\DEV\\ecd-trabajo-final\\d...</td>\n",
       "      <td>0</td>\n",
       "    </tr>\n",
       "  </tbody>\n",
       "</table>\n",
       "</div>"
      ],
      "text/plain": [
       "  target subject repetition  \\\n",
       "0    001     001        001   \n",
       "1    001     001        002   \n",
       "2    001     001        003   \n",
       "3    001     001        004   \n",
       "4    001     001        005   \n",
       "\n",
       "                                                file  target_encoding  \n",
       "0  C:\\Users\\facun\\Desktop\\DEV\\ecd-trabajo-final\\d...                0  \n",
       "1  C:\\Users\\facun\\Desktop\\DEV\\ecd-trabajo-final\\d...                0  \n",
       "2  C:\\Users\\facun\\Desktop\\DEV\\ecd-trabajo-final\\d...                0  \n",
       "3  C:\\Users\\facun\\Desktop\\DEV\\ecd-trabajo-final\\d...                0  \n",
       "4  C:\\Users\\facun\\Desktop\\DEV\\ecd-trabajo-final\\d...                0  "
      ]
     },
     "execution_count": 3,
     "metadata": {},
     "output_type": "execute_result"
    }
   ],
   "source": [
    "import os\n",
    "\n",
    "import pandas as pd\n",
    "\n",
    "targets = []\n",
    "subjects = []\n",
    "repetitions = []\n",
    "files = []\n",
    "\n",
    "for file in os.listdir(DATASET_DIR_POSTA):\n",
    "\n",
    "    target, subject, repetition = get_metadata_from_filename(file)\n",
    "\n",
    "    targets.append(target)\n",
    "    subjects.append(subject)\n",
    "    repetitions.append(repetition)\n",
    "    files.append(str((DATASET_DIR_POSTA / file).resolve()))\n",
    "\n",
    "\n",
    "metadata = pd.DataFrame(\n",
    "    data={\n",
    "        \"target\": targets,\n",
    "        \"subject\": subjects,\n",
    "        \"repetition\": repetitions,\n",
    "        \"file\": files,\n",
    "    }\n",
    ")\n",
    "\n",
    "metadata[\"target_encoding\"] = metadata[\"target\"].map(TARGET_TO_ENCODING)\n",
    "\n",
    "metadata.head()"
   ]
  },
  {
   "attachments": {},
   "cell_type": "markdown",
   "metadata": {},
   "source": [
    "### Train/Test split"
   ]
  },
  {
   "cell_type": "code",
   "execution_count": 4,
   "metadata": {},
   "outputs": [],
   "source": [
    "import numpy as np\n",
    "\n",
    "size = 1\n",
    "replace = False\n",
    "fn = lambda obj: obj.loc[np.random.choice(obj.index, size, replace),:]\n",
    "\n",
    "testing_set = metadata.groupby([\"target\", \"subject\"], as_index=False).apply(fn)\n",
    "\n",
    "testing_set.index = testing_set.index.droplevel(0)\n",
    "\n",
    "training_set = metadata.loc[~metadata.index.isin(testing_set.index), :]"
   ]
  },
  {
   "attachments": {},
   "cell_type": "markdown",
   "metadata": {},
   "source": [
    "### Pre-processing functions"
   ]
  },
  {
   "cell_type": "code",
   "execution_count": 5,
   "metadata": {},
   "outputs": [],
   "source": [
    "def transform(x):\n",
    "    \"\"\"Permutes the element to match the format expected by PyTorch: (C<channels>, T<frames>, H<height>, W<width>)\"\"\"\n",
    "    # Transpose video from (T<frames>, H<height>, W<width>, C<channels>) to (C<channels>, T<frames>, H<height>, W<width>)\n",
    "    return x.permute(3, 0, 1, 2).float()\n"
   ]
  },
  {
   "attachments": {},
   "cell_type": "markdown",
   "metadata": {},
   "source": [
    "### Datasets"
   ]
  },
  {
   "cell_type": "code",
   "execution_count": 6,
   "metadata": {},
   "outputs": [],
   "source": [
    "BATCH_SIZE = 64\n",
    "NUM_CLASSES = 64\n",
    "NUM_FRAMES = 16\n",
    "EPOCHS = 15\n",
    "LR = 0.001"
   ]
  },
  {
   "cell_type": "code",
   "execution_count": 7,
   "metadata": {},
   "outputs": [
    {
     "name": "stdout",
     "output_type": "stream",
     "text": [
      "Training/testing set: (2560, 640)\n"
     ]
    }
   ],
   "source": [
    "from recognizer.dataset import SampledVideoDataset\n",
    "\n",
    "training_dataset = SampledVideoDataset(\n",
    "    video_filenames=training_set[\"file\"].values,\n",
    "    labels=training_set[\"target_encoding\"].values,\n",
    "    num_frames=NUM_FRAMES,\n",
    "    transform=transform,\n",
    ")\n",
    "\n",
    "testing_dataset = SampledVideoDataset(\n",
    "    video_filenames=testing_set[\"file\"].values,\n",
    "    labels=testing_set[\"target_encoding\"].values,\n",
    "    num_frames=NUM_FRAMES,\n",
    "    transform=transform,\n",
    ")\n",
    "\n",
    "print(f\"Training/testing set: ({len(training_dataset)}, {len(testing_dataset)})\")"
   ]
  },
  {
   "attachments": {},
   "cell_type": "markdown",
   "metadata": {},
   "source": [
    "### Data Loaders"
   ]
  },
  {
   "cell_type": "code",
   "execution_count": 25,
   "metadata": {},
   "outputs": [
    {
     "data": {
      "text/plain": [
       "'cuda'"
      ]
     },
     "execution_count": 25,
     "metadata": {},
     "output_type": "execute_result"
    }
   ],
   "source": [
    "import torch \n",
    "\n",
    "from torch import nn\n",
    "\n",
    "from recognizer.models.molchanov_3d import Molchanov3DCNN\n",
    "\n",
    "# Las imágenes del video son de 192 x 108\n",
    "# Hay 8 frames por video\n",
    "\n",
    "# Es decir que cada elemento input será de 3x8x108x192 (C<channels> * T<frames> * H<height> * W<width>)\n",
    "\n",
    "model = Molchanov3DCNN(\n",
    "    num_classes=NUM_CLASSES,\n",
    "    num_frames=NUM_FRAMES,\n",
    "    batch_size=BATCH_SIZE,\n",
    ")\n",
    "\n",
    "train_loader = torch.utils.data.DataLoader(training_dataset, batch_size=BATCH_SIZE, shuffle = False)\n",
    "\n",
    "test_loader = torch.utils.data.DataLoader(testing_dataset, batch_size=BATCH_SIZE, shuffle = False)\n",
    "\n",
    "loss_function = nn.CrossEntropyLoss()\n",
    "\n",
    "optimizer = torch.optim.Adam(model.parameters(), lr=LR)\n",
    "\n",
    "device = (\n",
    "    \"cuda\"\n",
    "    if torch.cuda.is_available()\n",
    "    else \"mps\"\n",
    "    if torch.backends.mps.is_available()\n",
    "    else \"cpu\"\n",
    ")\n",
    "\n",
    "model.to(device)\n",
    "\n",
    "device"
   ]
  },
  {
   "cell_type": "code",
   "execution_count": 26,
   "metadata": {},
   "outputs": [
    {
     "name": "stdout",
     "output_type": "stream",
     "text": [
      "Param: conv_layer_1.0.weight | Shape: torch.Size([3, 3, 5, 5, 5])\n",
      "Param: conv_layer_1.0.bias | Shape: torch.Size([3])\n",
      "Param: conv_layer_2.0.weight | Shape: torch.Size([5, 3, 3, 3, 3])\n",
      "Param: conv_layer_2.0.bias | Shape: torch.Size([5])\n",
      "Param: fc_layer.0.weight | Shape: torch.Size([100, 48880])\n",
      "Param: fc_layer.0.bias | Shape: torch.Size([100])\n",
      "Param: fc_layer.3.weight | Shape: torch.Size([64, 100])\n",
      "Param: fc_layer.3.bias | Shape: torch.Size([64])\n"
     ]
    }
   ],
   "source": [
    "for n, p in model.named_parameters():\n",
    "    print(f\"Param: {n} | Shape: {p.shape}\")"
   ]
  },
  {
   "attachments": {},
   "cell_type": "markdown",
   "metadata": {},
   "source": [
    "## Training"
   ]
  },
  {
   "cell_type": "code",
   "execution_count": 27,
   "metadata": {},
   "outputs": [],
   "source": [
    "import subprocess\n",
    "\n",
    "CMD = '''\n",
    "on run argv\n",
    "  display notification (item 2 of argv) with title (item 1 of argv) sound name \"Glass\"\n",
    "end run\n",
    "'''\n",
    "\n",
    "def notify(title, text):\n",
    "    subprocess.call(['osascript', '-e', CMD, title, text])"
   ]
  },
  {
   "cell_type": "code",
   "execution_count": 28,
   "metadata": {},
   "outputs": [],
   "source": [
    "from sklearn.metrics import (\n",
    "    accuracy_score,\n",
    "    precision_score,\n",
    "    recall_score,\n",
    "    f1_score,\n",
    "    confusion_matrix\n",
    ")\n",
    "\n",
    "training_losses = []\n",
    "testing_losses = []\n",
    "\n",
    "accuracies = []\n",
    "precisions = []\n",
    "recalls = []\n",
    "f1s = []\n",
    "cm = None"
   ]
  },
  {
   "cell_type": "code",
   "execution_count": 29,
   "metadata": {},
   "outputs": [
    {
     "name": "stdout",
     "output_type": "stream",
     "text": [
      "\n",
      "Beginning model training with parameters:\n",
      "- Epochs: 15\n",
      "- Batch Size: 64\n",
      "\n",
      "Epoch 1 - Training\n"
     ]
    },
    {
     "name": "stdout",
     "output_type": "stream",
     "text": [
      "Epoch 1 - AVG Training Loss: 12.60\n",
      "Epoch 1 - Evaluation\n",
      "Input: torch.Size([64, 3, 16, 216, 384]) in device cuda:0; Labels: torch.Size([64]) in device cuda:0\n",
      "Input: torch.Size([64, 3, 16, 216, 384]) in device cuda:0; Labels: torch.Size([64]) in device cuda:0\n",
      "Input: torch.Size([64, 3, 16, 216, 384]) in device cuda:0; Labels: torch.Size([64]) in device cuda:0\n",
      "Input: torch.Size([64, 3, 16, 216, 384]) in device cuda:0; Labels: torch.Size([64]) in device cuda:0\n",
      "Input: torch.Size([64, 3, 16, 216, 384]) in device cuda:0; Labels: torch.Size([64]) in device cuda:0\n",
      "Input: torch.Size([64, 3, 16, 216, 384]) in device cuda:0; Labels: torch.Size([64]) in device cuda:0\n",
      "Input: torch.Size([64, 3, 16, 216, 384]) in device cuda:0; Labels: torch.Size([64]) in device cuda:0\n",
      "Input: torch.Size([64, 3, 16, 216, 384]) in device cuda:0; Labels: torch.Size([64]) in device cuda:0\n",
      "Input: torch.Size([64, 3, 16, 216, 384]) in device cuda:0; Labels: torch.Size([64]) in device cuda:0\n",
      "Input: torch.Size([64, 3, 16, 216, 384]) in device cuda:0; Labels: torch.Size([64]) in device cuda:0\n"
     ]
    },
    {
     "name": "stderr",
     "output_type": "stream",
     "text": [
      "c:\\Users\\facun\\AppData\\Local\\pypoetry\\Cache\\virtualenvs\\recognizer-U-rlUTHu-py3.10\\lib\\site-packages\\sklearn\\metrics\\_classification.py:1344: UndefinedMetricWarning: Precision is ill-defined and being set to 0.0 in labels with no predicted samples. Use `zero_division` parameter to control this behavior.\n",
      "  _warn_prf(average, modifier, msg_start, len(result))\n"
     ]
    },
    {
     "name": "stdout",
     "output_type": "stream",
     "text": [
      "\n",
      "    Epoch 1 - Evaluation metrics\n",
      "        - Accuracy  : 0.021875\n",
      "        - Precision : 0.0017906235268133884\n",
      "        - Recall    : 0.021875\n",
      "        - F1        : 0.0030079191901199384\n",
      "    \n",
      "Epoch 2 - Training\n",
      "Epoch 2 - AVG Training Loss: 4.16\n",
      "Epoch 2 - Evaluation\n",
      "Input: torch.Size([64, 3, 16, 216, 384]) in device cuda:0; Labels: torch.Size([64]) in device cuda:0\n",
      "Input: torch.Size([64, 3, 16, 216, 384]) in device cuda:0; Labels: torch.Size([64]) in device cuda:0\n",
      "Input: torch.Size([64, 3, 16, 216, 384]) in device cuda:0; Labels: torch.Size([64]) in device cuda:0\n",
      "Input: torch.Size([64, 3, 16, 216, 384]) in device cuda:0; Labels: torch.Size([64]) in device cuda:0\n",
      "Input: torch.Size([64, 3, 16, 216, 384]) in device cuda:0; Labels: torch.Size([64]) in device cuda:0\n",
      "Input: torch.Size([64, 3, 16, 216, 384]) in device cuda:0; Labels: torch.Size([64]) in device cuda:0\n",
      "Input: torch.Size([64, 3, 16, 216, 384]) in device cuda:0; Labels: torch.Size([64]) in device cuda:0\n",
      "Input: torch.Size([64, 3, 16, 216, 384]) in device cuda:0; Labels: torch.Size([64]) in device cuda:0\n",
      "Input: torch.Size([64, 3, 16, 216, 384]) in device cuda:0; Labels: torch.Size([64]) in device cuda:0\n",
      "Input: torch.Size([64, 3, 16, 216, 384]) in device cuda:0; Labels: torch.Size([64]) in device cuda:0\n"
     ]
    },
    {
     "name": "stderr",
     "output_type": "stream",
     "text": [
      "c:\\Users\\facun\\AppData\\Local\\pypoetry\\Cache\\virtualenvs\\recognizer-U-rlUTHu-py3.10\\lib\\site-packages\\sklearn\\metrics\\_classification.py:1344: UndefinedMetricWarning: Precision is ill-defined and being set to 0.0 in labels with no predicted samples. Use `zero_division` parameter to control this behavior.\n",
      "  _warn_prf(average, modifier, msg_start, len(result))\n"
     ]
    },
    {
     "name": "stdout",
     "output_type": "stream",
     "text": [
      "\n",
      "    Epoch 2 - Evaluation metrics\n",
      "        - Accuracy  : 0.0234375\n",
      "        - Precision : 0.028183715624115986\n",
      "        - Recall    : 0.0234375\n",
      "        - F1        : 0.010320603582919731\n",
      "    \n",
      "Epoch 3 - Training\n",
      "Epoch 3 - AVG Training Loss: 4.14\n",
      "Epoch 3 - Evaluation\n",
      "Input: torch.Size([64, 3, 16, 216, 384]) in device cuda:0; Labels: torch.Size([64]) in device cuda:0\n",
      "Input: torch.Size([64, 3, 16, 216, 384]) in device cuda:0; Labels: torch.Size([64]) in device cuda:0\n",
      "Input: torch.Size([64, 3, 16, 216, 384]) in device cuda:0; Labels: torch.Size([64]) in device cuda:0\n",
      "Input: torch.Size([64, 3, 16, 216, 384]) in device cuda:0; Labels: torch.Size([64]) in device cuda:0\n",
      "Input: torch.Size([64, 3, 16, 216, 384]) in device cuda:0; Labels: torch.Size([64]) in device cuda:0\n",
      "Input: torch.Size([64, 3, 16, 216, 384]) in device cuda:0; Labels: torch.Size([64]) in device cuda:0\n",
      "Input: torch.Size([64, 3, 16, 216, 384]) in device cuda:0; Labels: torch.Size([64]) in device cuda:0\n",
      "Input: torch.Size([64, 3, 16, 216, 384]) in device cuda:0; Labels: torch.Size([64]) in device cuda:0\n",
      "Input: torch.Size([64, 3, 16, 216, 384]) in device cuda:0; Labels: torch.Size([64]) in device cuda:0\n",
      "Input: torch.Size([64, 3, 16, 216, 384]) in device cuda:0; Labels: torch.Size([64]) in device cuda:0\n"
     ]
    },
    {
     "name": "stderr",
     "output_type": "stream",
     "text": [
      "c:\\Users\\facun\\AppData\\Local\\pypoetry\\Cache\\virtualenvs\\recognizer-U-rlUTHu-py3.10\\lib\\site-packages\\sklearn\\metrics\\_classification.py:1344: UndefinedMetricWarning: Precision is ill-defined and being set to 0.0 in labels with no predicted samples. Use `zero_division` parameter to control this behavior.\n",
      "  _warn_prf(average, modifier, msg_start, len(result))\n"
     ]
    },
    {
     "name": "stdout",
     "output_type": "stream",
     "text": [
      "\n",
      "    Epoch 3 - Evaluation metrics\n",
      "        - Accuracy  : 0.0390625\n",
      "        - Precision : 0.018121085804255983\n",
      "        - Recall    : 0.0390625\n",
      "        - F1        : 0.018721410736817882\n",
      "    \n",
      "Epoch 4 - Training\n",
      "Epoch 4 - AVG Training Loss: 4.11\n",
      "Epoch 4 - Evaluation\n",
      "Input: torch.Size([64, 3, 16, 216, 384]) in device cuda:0; Labels: torch.Size([64]) in device cuda:0\n",
      "Input: torch.Size([64, 3, 16, 216, 384]) in device cuda:0; Labels: torch.Size([64]) in device cuda:0\n",
      "Input: torch.Size([64, 3, 16, 216, 384]) in device cuda:0; Labels: torch.Size([64]) in device cuda:0\n",
      "Input: torch.Size([64, 3, 16, 216, 384]) in device cuda:0; Labels: torch.Size([64]) in device cuda:0\n",
      "Input: torch.Size([64, 3, 16, 216, 384]) in device cuda:0; Labels: torch.Size([64]) in device cuda:0\n",
      "Input: torch.Size([64, 3, 16, 216, 384]) in device cuda:0; Labels: torch.Size([64]) in device cuda:0\n",
      "Input: torch.Size([64, 3, 16, 216, 384]) in device cuda:0; Labels: torch.Size([64]) in device cuda:0\n",
      "Input: torch.Size([64, 3, 16, 216, 384]) in device cuda:0; Labels: torch.Size([64]) in device cuda:0\n",
      "Input: torch.Size([64, 3, 16, 216, 384]) in device cuda:0; Labels: torch.Size([64]) in device cuda:0\n",
      "Input: torch.Size([64, 3, 16, 216, 384]) in device cuda:0; Labels: torch.Size([64]) in device cuda:0\n"
     ]
    },
    {
     "name": "stderr",
     "output_type": "stream",
     "text": [
      "c:\\Users\\facun\\AppData\\Local\\pypoetry\\Cache\\virtualenvs\\recognizer-U-rlUTHu-py3.10\\lib\\site-packages\\sklearn\\metrics\\_classification.py:1344: UndefinedMetricWarning: Precision is ill-defined and being set to 0.0 in labels with no predicted samples. Use `zero_division` parameter to control this behavior.\n",
      "  _warn_prf(average, modifier, msg_start, len(result))\n"
     ]
    },
    {
     "name": "stdout",
     "output_type": "stream",
     "text": [
      "\n",
      "    Epoch 4 - Evaluation metrics\n",
      "        - Accuracy  : 0.0421875\n",
      "        - Precision : 0.06809078409407357\n",
      "        - Recall    : 0.042187499999999996\n",
      "        - F1        : 0.02548305863934688\n",
      "    \n",
      "Epoch 5 - Training\n",
      "Epoch 5 - AVG Training Loss: 4.02\n",
      "Epoch 5 - Evaluation\n",
      "Input: torch.Size([64, 3, 16, 216, 384]) in device cuda:0; Labels: torch.Size([64]) in device cuda:0\n",
      "Input: torch.Size([64, 3, 16, 216, 384]) in device cuda:0; Labels: torch.Size([64]) in device cuda:0\n",
      "Input: torch.Size([64, 3, 16, 216, 384]) in device cuda:0; Labels: torch.Size([64]) in device cuda:0\n",
      "Input: torch.Size([64, 3, 16, 216, 384]) in device cuda:0; Labels: torch.Size([64]) in device cuda:0\n",
      "Input: torch.Size([64, 3, 16, 216, 384]) in device cuda:0; Labels: torch.Size([64]) in device cuda:0\n",
      "Input: torch.Size([64, 3, 16, 216, 384]) in device cuda:0; Labels: torch.Size([64]) in device cuda:0\n",
      "Input: torch.Size([64, 3, 16, 216, 384]) in device cuda:0; Labels: torch.Size([64]) in device cuda:0\n",
      "Input: torch.Size([64, 3, 16, 216, 384]) in device cuda:0; Labels: torch.Size([64]) in device cuda:0\n",
      "Input: torch.Size([64, 3, 16, 216, 384]) in device cuda:0; Labels: torch.Size([64]) in device cuda:0\n",
      "Input: torch.Size([64, 3, 16, 216, 384]) in device cuda:0; Labels: torch.Size([64]) in device cuda:0\n"
     ]
    },
    {
     "name": "stderr",
     "output_type": "stream",
     "text": [
      "c:\\Users\\facun\\AppData\\Local\\pypoetry\\Cache\\virtualenvs\\recognizer-U-rlUTHu-py3.10\\lib\\site-packages\\sklearn\\metrics\\_classification.py:1344: UndefinedMetricWarning: Precision is ill-defined and being set to 0.0 in labels with no predicted samples. Use `zero_division` parameter to control this behavior.\n",
      "  _warn_prf(average, modifier, msg_start, len(result))\n"
     ]
    },
    {
     "name": "stdout",
     "output_type": "stream",
     "text": [
      "\n",
      "    Epoch 5 - Evaluation metrics\n",
      "        - Accuracy  : 0.0734375\n",
      "        - Precision : 0.12136637793468148\n",
      "        - Recall    : 0.07343749999999999\n",
      "        - F1        : 0.05295558895982033\n",
      "    \n",
      "Epoch 6 - Training\n",
      "Epoch 6 - AVG Training Loss: 3.79\n",
      "Epoch 6 - Evaluation\n",
      "Input: torch.Size([64, 3, 16, 216, 384]) in device cuda:0; Labels: torch.Size([64]) in device cuda:0\n",
      "Input: torch.Size([64, 3, 16, 216, 384]) in device cuda:0; Labels: torch.Size([64]) in device cuda:0\n",
      "Input: torch.Size([64, 3, 16, 216, 384]) in device cuda:0; Labels: torch.Size([64]) in device cuda:0\n",
      "Input: torch.Size([64, 3, 16, 216, 384]) in device cuda:0; Labels: torch.Size([64]) in device cuda:0\n",
      "Input: torch.Size([64, 3, 16, 216, 384]) in device cuda:0; Labels: torch.Size([64]) in device cuda:0\n",
      "Input: torch.Size([64, 3, 16, 216, 384]) in device cuda:0; Labels: torch.Size([64]) in device cuda:0\n",
      "Input: torch.Size([64, 3, 16, 216, 384]) in device cuda:0; Labels: torch.Size([64]) in device cuda:0\n",
      "Input: torch.Size([64, 3, 16, 216, 384]) in device cuda:0; Labels: torch.Size([64]) in device cuda:0\n",
      "Input: torch.Size([64, 3, 16, 216, 384]) in device cuda:0; Labels: torch.Size([64]) in device cuda:0\n",
      "Input: torch.Size([64, 3, 16, 216, 384]) in device cuda:0; Labels: torch.Size([64]) in device cuda:0\n"
     ]
    },
    {
     "name": "stderr",
     "output_type": "stream",
     "text": [
      "c:\\Users\\facun\\AppData\\Local\\pypoetry\\Cache\\virtualenvs\\recognizer-U-rlUTHu-py3.10\\lib\\site-packages\\sklearn\\metrics\\_classification.py:1344: UndefinedMetricWarning: Precision is ill-defined and being set to 0.0 in labels with no predicted samples. Use `zero_division` parameter to control this behavior.\n",
      "  _warn_prf(average, modifier, msg_start, len(result))\n"
     ]
    },
    {
     "name": "stdout",
     "output_type": "stream",
     "text": [
      "\n",
      "    Epoch 6 - Evaluation metrics\n",
      "        - Accuracy  : 0.1921875\n",
      "        - Precision : 0.2852256595953442\n",
      "        - Recall    : 0.1921875\n",
      "        - F1        : 0.17322453173594546\n",
      "    \n",
      "Epoch 7 - Training\n",
      "Epoch 7 - AVG Training Loss: 3.45\n",
      "Epoch 7 - Evaluation\n",
      "Input: torch.Size([64, 3, 16, 216, 384]) in device cuda:0; Labels: torch.Size([64]) in device cuda:0\n",
      "Input: torch.Size([64, 3, 16, 216, 384]) in device cuda:0; Labels: torch.Size([64]) in device cuda:0\n",
      "Input: torch.Size([64, 3, 16, 216, 384]) in device cuda:0; Labels: torch.Size([64]) in device cuda:0\n",
      "Input: torch.Size([64, 3, 16, 216, 384]) in device cuda:0; Labels: torch.Size([64]) in device cuda:0\n",
      "Input: torch.Size([64, 3, 16, 216, 384]) in device cuda:0; Labels: torch.Size([64]) in device cuda:0\n",
      "Input: torch.Size([64, 3, 16, 216, 384]) in device cuda:0; Labels: torch.Size([64]) in device cuda:0\n",
      "Input: torch.Size([64, 3, 16, 216, 384]) in device cuda:0; Labels: torch.Size([64]) in device cuda:0\n",
      "Input: torch.Size([64, 3, 16, 216, 384]) in device cuda:0; Labels: torch.Size([64]) in device cuda:0\n",
      "Input: torch.Size([64, 3, 16, 216, 384]) in device cuda:0; Labels: torch.Size([64]) in device cuda:0\n",
      "Input: torch.Size([64, 3, 16, 216, 384]) in device cuda:0; Labels: torch.Size([64]) in device cuda:0\n"
     ]
    },
    {
     "name": "stderr",
     "output_type": "stream",
     "text": [
      "c:\\Users\\facun\\AppData\\Local\\pypoetry\\Cache\\virtualenvs\\recognizer-U-rlUTHu-py3.10\\lib\\site-packages\\sklearn\\metrics\\_classification.py:1344: UndefinedMetricWarning: Precision is ill-defined and being set to 0.0 in labels with no predicted samples. Use `zero_division` parameter to control this behavior.\n",
      "  _warn_prf(average, modifier, msg_start, len(result))\n"
     ]
    },
    {
     "name": "stdout",
     "output_type": "stream",
     "text": [
      "\n",
      "    Epoch 7 - Evaluation metrics\n",
      "        - Accuracy  : 0.309375\n",
      "        - Precision : 0.365177528557253\n",
      "        - Recall    : 0.309375\n",
      "        - F1        : 0.28040639981586807\n",
      "    \n",
      "Epoch 8 - Training\n",
      "Epoch 8 - AVG Training Loss: 3.02\n",
      "Epoch 8 - Evaluation\n",
      "Input: torch.Size([64, 3, 16, 216, 384]) in device cuda:0; Labels: torch.Size([64]) in device cuda:0\n",
      "Input: torch.Size([64, 3, 16, 216, 384]) in device cuda:0; Labels: torch.Size([64]) in device cuda:0\n",
      "Input: torch.Size([64, 3, 16, 216, 384]) in device cuda:0; Labels: torch.Size([64]) in device cuda:0\n",
      "Input: torch.Size([64, 3, 16, 216, 384]) in device cuda:0; Labels: torch.Size([64]) in device cuda:0\n",
      "Input: torch.Size([64, 3, 16, 216, 384]) in device cuda:0; Labels: torch.Size([64]) in device cuda:0\n",
      "Input: torch.Size([64, 3, 16, 216, 384]) in device cuda:0; Labels: torch.Size([64]) in device cuda:0\n",
      "Input: torch.Size([64, 3, 16, 216, 384]) in device cuda:0; Labels: torch.Size([64]) in device cuda:0\n",
      "Input: torch.Size([64, 3, 16, 216, 384]) in device cuda:0; Labels: torch.Size([64]) in device cuda:0\n",
      "Input: torch.Size([64, 3, 16, 216, 384]) in device cuda:0; Labels: torch.Size([64]) in device cuda:0\n",
      "Input: torch.Size([64, 3, 16, 216, 384]) in device cuda:0; Labels: torch.Size([64]) in device cuda:0\n"
     ]
    },
    {
     "name": "stderr",
     "output_type": "stream",
     "text": [
      "c:\\Users\\facun\\AppData\\Local\\pypoetry\\Cache\\virtualenvs\\recognizer-U-rlUTHu-py3.10\\lib\\site-packages\\sklearn\\metrics\\_classification.py:1344: UndefinedMetricWarning: Precision is ill-defined and being set to 0.0 in labels with no predicted samples. Use `zero_division` parameter to control this behavior.\n",
      "  _warn_prf(average, modifier, msg_start, len(result))\n"
     ]
    },
    {
     "name": "stdout",
     "output_type": "stream",
     "text": [
      "\n",
      "    Epoch 8 - Evaluation metrics\n",
      "        - Accuracy  : 0.4234375\n",
      "        - Precision : 0.4884611909899448\n",
      "        - Recall    : 0.4234375\n",
      "        - F1        : 0.40437249237994877\n",
      "    \n",
      "Epoch 9 - Training\n",
      "Epoch 9 - AVG Training Loss: 2.48\n",
      "Epoch 9 - Evaluation\n",
      "Input: torch.Size([64, 3, 16, 216, 384]) in device cuda:0; Labels: torch.Size([64]) in device cuda:0\n",
      "Input: torch.Size([64, 3, 16, 216, 384]) in device cuda:0; Labels: torch.Size([64]) in device cuda:0\n",
      "Input: torch.Size([64, 3, 16, 216, 384]) in device cuda:0; Labels: torch.Size([64]) in device cuda:0\n",
      "Input: torch.Size([64, 3, 16, 216, 384]) in device cuda:0; Labels: torch.Size([64]) in device cuda:0\n",
      "Input: torch.Size([64, 3, 16, 216, 384]) in device cuda:0; Labels: torch.Size([64]) in device cuda:0\n",
      "Input: torch.Size([64, 3, 16, 216, 384]) in device cuda:0; Labels: torch.Size([64]) in device cuda:0\n",
      "Input: torch.Size([64, 3, 16, 216, 384]) in device cuda:0; Labels: torch.Size([64]) in device cuda:0\n",
      "Input: torch.Size([64, 3, 16, 216, 384]) in device cuda:0; Labels: torch.Size([64]) in device cuda:0\n",
      "Input: torch.Size([64, 3, 16, 216, 384]) in device cuda:0; Labels: torch.Size([64]) in device cuda:0\n",
      "Input: torch.Size([64, 3, 16, 216, 384]) in device cuda:0; Labels: torch.Size([64]) in device cuda:0\n"
     ]
    },
    {
     "name": "stderr",
     "output_type": "stream",
     "text": [
      "c:\\Users\\facun\\AppData\\Local\\pypoetry\\Cache\\virtualenvs\\recognizer-U-rlUTHu-py3.10\\lib\\site-packages\\sklearn\\metrics\\_classification.py:1344: UndefinedMetricWarning: Precision is ill-defined and being set to 0.0 in labels with no predicted samples. Use `zero_division` parameter to control this behavior.\n",
      "  _warn_prf(average, modifier, msg_start, len(result))\n"
     ]
    },
    {
     "name": "stdout",
     "output_type": "stream",
     "text": [
      "\n",
      "    Epoch 9 - Evaluation metrics\n",
      "        - Accuracy  : 0.5328125\n",
      "        - Precision : 0.6282872314787465\n",
      "        - Recall    : 0.5328124999999999\n",
      "        - F1        : 0.5300902649076702\n",
      "    \n",
      "Epoch 10 - Training\n",
      "Epoch 10 - AVG Training Loss: 1.98\n",
      "Epoch 10 - Evaluation\n",
      "Input: torch.Size([64, 3, 16, 216, 384]) in device cuda:0; Labels: torch.Size([64]) in device cuda:0\n",
      "Input: torch.Size([64, 3, 16, 216, 384]) in device cuda:0; Labels: torch.Size([64]) in device cuda:0\n",
      "Input: torch.Size([64, 3, 16, 216, 384]) in device cuda:0; Labels: torch.Size([64]) in device cuda:0\n",
      "Input: torch.Size([64, 3, 16, 216, 384]) in device cuda:0; Labels: torch.Size([64]) in device cuda:0\n",
      "Input: torch.Size([64, 3, 16, 216, 384]) in device cuda:0; Labels: torch.Size([64]) in device cuda:0\n",
      "Input: torch.Size([64, 3, 16, 216, 384]) in device cuda:0; Labels: torch.Size([64]) in device cuda:0\n",
      "Input: torch.Size([64, 3, 16, 216, 384]) in device cuda:0; Labels: torch.Size([64]) in device cuda:0\n",
      "Input: torch.Size([64, 3, 16, 216, 384]) in device cuda:0; Labels: torch.Size([64]) in device cuda:0\n",
      "Input: torch.Size([64, 3, 16, 216, 384]) in device cuda:0; Labels: torch.Size([64]) in device cuda:0\n",
      "Input: torch.Size([64, 3, 16, 216, 384]) in device cuda:0; Labels: torch.Size([64]) in device cuda:0\n",
      "\n",
      "    Epoch 10 - Evaluation metrics\n",
      "        - Accuracy  : 0.6625\n",
      "        - Precision : 0.7482506855209061\n",
      "        - Recall    : 0.6625000000000001\n",
      "        - F1        : 0.6654234336701799\n",
      "    \n",
      "Epoch 11 - Training\n",
      "Epoch 11 - AVG Training Loss: 1.47\n",
      "Epoch 11 - Evaluation\n",
      "Input: torch.Size([64, 3, 16, 216, 384]) in device cuda:0; Labels: torch.Size([64]) in device cuda:0\n",
      "Input: torch.Size([64, 3, 16, 216, 384]) in device cuda:0; Labels: torch.Size([64]) in device cuda:0\n",
      "Input: torch.Size([64, 3, 16, 216, 384]) in device cuda:0; Labels: torch.Size([64]) in device cuda:0\n",
      "Input: torch.Size([64, 3, 16, 216, 384]) in device cuda:0; Labels: torch.Size([64]) in device cuda:0\n",
      "Input: torch.Size([64, 3, 16, 216, 384]) in device cuda:0; Labels: torch.Size([64]) in device cuda:0\n",
      "Input: torch.Size([64, 3, 16, 216, 384]) in device cuda:0; Labels: torch.Size([64]) in device cuda:0\n",
      "Input: torch.Size([64, 3, 16, 216, 384]) in device cuda:0; Labels: torch.Size([64]) in device cuda:0\n",
      "Input: torch.Size([64, 3, 16, 216, 384]) in device cuda:0; Labels: torch.Size([64]) in device cuda:0\n",
      "Input: torch.Size([64, 3, 16, 216, 384]) in device cuda:0; Labels: torch.Size([64]) in device cuda:0\n",
      "Input: torch.Size([64, 3, 16, 216, 384]) in device cuda:0; Labels: torch.Size([64]) in device cuda:0\n",
      "\n",
      "    Epoch 11 - Evaluation metrics\n",
      "        - Accuracy  : 0.7421875\n",
      "        - Precision : 0.8023550744598538\n",
      "        - Recall    : 0.7421875\n",
      "        - F1        : 0.7506253182686754\n",
      "    \n",
      "Epoch 12 - Training\n",
      "Epoch 12 - AVG Training Loss: 1.03\n",
      "Epoch 12 - Evaluation\n",
      "Input: torch.Size([64, 3, 16, 216, 384]) in device cuda:0; Labels: torch.Size([64]) in device cuda:0\n",
      "Input: torch.Size([64, 3, 16, 216, 384]) in device cuda:0; Labels: torch.Size([64]) in device cuda:0\n",
      "Input: torch.Size([64, 3, 16, 216, 384]) in device cuda:0; Labels: torch.Size([64]) in device cuda:0\n",
      "Input: torch.Size([64, 3, 16, 216, 384]) in device cuda:0; Labels: torch.Size([64]) in device cuda:0\n",
      "Input: torch.Size([64, 3, 16, 216, 384]) in device cuda:0; Labels: torch.Size([64]) in device cuda:0\n",
      "Input: torch.Size([64, 3, 16, 216, 384]) in device cuda:0; Labels: torch.Size([64]) in device cuda:0\n",
      "Input: torch.Size([64, 3, 16, 216, 384]) in device cuda:0; Labels: torch.Size([64]) in device cuda:0\n",
      "Input: torch.Size([64, 3, 16, 216, 384]) in device cuda:0; Labels: torch.Size([64]) in device cuda:0\n",
      "Input: torch.Size([64, 3, 16, 216, 384]) in device cuda:0; Labels: torch.Size([64]) in device cuda:0\n",
      "Input: torch.Size([64, 3, 16, 216, 384]) in device cuda:0; Labels: torch.Size([64]) in device cuda:0\n",
      "\n",
      "    Epoch 12 - Evaluation metrics\n",
      "        - Accuracy  : 0.7734375\n",
      "        - Precision : 0.8291919232024456\n",
      "        - Recall    : 0.7734375\n",
      "        - F1        : 0.7800083522998367\n",
      "    \n",
      "Epoch 13 - Training\n",
      "Epoch 13 - AVG Training Loss: 0.79\n",
      "Epoch 13 - Evaluation\n",
      "Input: torch.Size([64, 3, 16, 216, 384]) in device cuda:0; Labels: torch.Size([64]) in device cuda:0\n",
      "Input: torch.Size([64, 3, 16, 216, 384]) in device cuda:0; Labels: torch.Size([64]) in device cuda:0\n",
      "Input: torch.Size([64, 3, 16, 216, 384]) in device cuda:0; Labels: torch.Size([64]) in device cuda:0\n",
      "Input: torch.Size([64, 3, 16, 216, 384]) in device cuda:0; Labels: torch.Size([64]) in device cuda:0\n",
      "Input: torch.Size([64, 3, 16, 216, 384]) in device cuda:0; Labels: torch.Size([64]) in device cuda:0\n",
      "Input: torch.Size([64, 3, 16, 216, 384]) in device cuda:0; Labels: torch.Size([64]) in device cuda:0\n",
      "Input: torch.Size([64, 3, 16, 216, 384]) in device cuda:0; Labels: torch.Size([64]) in device cuda:0\n",
      "Input: torch.Size([64, 3, 16, 216, 384]) in device cuda:0; Labels: torch.Size([64]) in device cuda:0\n",
      "Input: torch.Size([64, 3, 16, 216, 384]) in device cuda:0; Labels: torch.Size([64]) in device cuda:0\n",
      "Input: torch.Size([64, 3, 16, 216, 384]) in device cuda:0; Labels: torch.Size([64]) in device cuda:0\n",
      "\n",
      "    Epoch 13 - Evaluation metrics\n",
      "        - Accuracy  : 0.8140625\n",
      "        - Precision : 0.8463599117895992\n",
      "        - Recall    : 0.8140625\n",
      "        - F1        : 0.8163229099469782\n",
      "    \n",
      "Epoch 14 - Training\n",
      "Epoch 14 - AVG Training Loss: 0.58\n",
      "Epoch 14 - Evaluation\n",
      "Input: torch.Size([64, 3, 16, 216, 384]) in device cuda:0; Labels: torch.Size([64]) in device cuda:0\n",
      "Input: torch.Size([64, 3, 16, 216, 384]) in device cuda:0; Labels: torch.Size([64]) in device cuda:0\n",
      "Input: torch.Size([64, 3, 16, 216, 384]) in device cuda:0; Labels: torch.Size([64]) in device cuda:0\n",
      "Input: torch.Size([64, 3, 16, 216, 384]) in device cuda:0; Labels: torch.Size([64]) in device cuda:0\n",
      "Input: torch.Size([64, 3, 16, 216, 384]) in device cuda:0; Labels: torch.Size([64]) in device cuda:0\n",
      "Input: torch.Size([64, 3, 16, 216, 384]) in device cuda:0; Labels: torch.Size([64]) in device cuda:0\n",
      "Input: torch.Size([64, 3, 16, 216, 384]) in device cuda:0; Labels: torch.Size([64]) in device cuda:0\n",
      "Input: torch.Size([64, 3, 16, 216, 384]) in device cuda:0; Labels: torch.Size([64]) in device cuda:0\n",
      "Input: torch.Size([64, 3, 16, 216, 384]) in device cuda:0; Labels: torch.Size([64]) in device cuda:0\n",
      "Input: torch.Size([64, 3, 16, 216, 384]) in device cuda:0; Labels: torch.Size([64]) in device cuda:0\n",
      "\n",
      "    Epoch 14 - Evaluation metrics\n",
      "        - Accuracy  : 0.8515625\n",
      "        - Precision : 0.8712742909663866\n",
      "        - Recall    : 0.8515625\n",
      "        - F1        : 0.8493097240514773\n",
      "    \n",
      "Epoch 15 - Training\n",
      "Epoch 15 - AVG Training Loss: 0.42\n",
      "Epoch 15 - Evaluation\n",
      "Input: torch.Size([64, 3, 16, 216, 384]) in device cuda:0; Labels: torch.Size([64]) in device cuda:0\n",
      "Input: torch.Size([64, 3, 16, 216, 384]) in device cuda:0; Labels: torch.Size([64]) in device cuda:0\n",
      "Input: torch.Size([64, 3, 16, 216, 384]) in device cuda:0; Labels: torch.Size([64]) in device cuda:0\n",
      "Input: torch.Size([64, 3, 16, 216, 384]) in device cuda:0; Labels: torch.Size([64]) in device cuda:0\n",
      "Input: torch.Size([64, 3, 16, 216, 384]) in device cuda:0; Labels: torch.Size([64]) in device cuda:0\n",
      "Input: torch.Size([64, 3, 16, 216, 384]) in device cuda:0; Labels: torch.Size([64]) in device cuda:0\n",
      "Input: torch.Size([64, 3, 16, 216, 384]) in device cuda:0; Labels: torch.Size([64]) in device cuda:0\n",
      "Input: torch.Size([64, 3, 16, 216, 384]) in device cuda:0; Labels: torch.Size([64]) in device cuda:0\n",
      "Input: torch.Size([64, 3, 16, 216, 384]) in device cuda:0; Labels: torch.Size([64]) in device cuda:0\n",
      "Input: torch.Size([64, 3, 16, 216, 384]) in device cuda:0; Labels: torch.Size([64]) in device cuda:0\n",
      "\n",
      "    Epoch 15 - Evaluation metrics\n",
      "        - Accuracy  : 0.8671875\n",
      "        - Precision : 0.8865335185647686\n",
      "        - Recall    : 0.8671875\n",
      "        - F1        : 0.8692207410710281\n",
      "    \n"
     ]
    }
   ],
   "source": [
    "print(\n",
    "f\"\"\"\n",
    "Beginning model training with parameters:\n",
    "- Epochs: {EPOCHS}\n",
    "- Batch Size: {BATCH_SIZE}\n",
    "\"\"\"\n",
    ")\n",
    "\n",
    "for epoch in range(EPOCHS):\n",
    "    print(f\"Epoch {epoch + 1} - Training\")\n",
    "\n",
    "    model.train()\n",
    "\n",
    "    running_training_loss = 0.0\n",
    "\n",
    "    for _, data in enumerate(train_loader):\n",
    "\n",
    "        batch, labels = data[0].to(device), data[1].to(device)\n",
    "\n",
    "        logits = model(batch)\n",
    "        \n",
    "        loss = loss_function(logits, labels)\n",
    "\n",
    "        running_training_loss += loss.item()\n",
    "\n",
    "        optimizer.zero_grad()\n",
    "        loss.backward()\n",
    "        optimizer.step()\n",
    "\n",
    "    average_training_loss = running_training_loss / len(train_loader)\n",
    "    training_losses.append(round(average_training_loss, 2))\n",
    "\n",
    "    print(f\"Epoch {epoch + 1} - AVG Training Loss: {average_training_loss:.2f}\")\n",
    "\n",
    "    # Evaluation\n",
    "    print(f\"Epoch {epoch + 1} - Evaluation\")\n",
    "\n",
    "    model.eval()\n",
    "\n",
    "    all_preds = []\n",
    "    all_targets = []\n",
    "\n",
    "    running_testing_loss = 0.0\n",
    "\n",
    "    with torch.no_grad():\n",
    "        for data in test_loader:\n",
    "            inputs, labels = data[0].to(device), data[1].to(device)\n",
    "\n",
    "            print(f\"Input: {inputs.shape} in device {inputs.device}; Labels: {labels.shape} in device {labels.device}\")\n",
    "\n",
    "            logits = model(inputs)\n",
    "\n",
    "            _, preds = torch.max(logits, 1)\n",
    "\n",
    "            all_preds.extend(preds.detach().cpu())\n",
    "            all_targets.extend(labels.detach().cpu())\n",
    "\n",
    "            loss = loss_function(logits, labels)\n",
    "            running_testing_loss += loss.item()\n",
    "\n",
    "    average_testing_loss = running_testing_loss / len(test_loader)\n",
    "    testing_losses.append(round(average_testing_loss, 2))\n",
    "\n",
    "    all_preds = np.array(all_preds)\n",
    "    all_targets = np.array(all_targets)\n",
    "\n",
    "    accuracy = accuracy_score(all_targets, all_preds)\n",
    "    precision = precision_score(all_targets, all_preds, average=\"macro\")\n",
    "    recall = recall_score(all_targets, all_preds, average=\"macro\")\n",
    "    f1 = f1_score(all_targets, all_preds, average=\"macro\")\n",
    "\n",
    "    accuracies.append(accuracy)\n",
    "    precisions.append(precision)\n",
    "    recalls.append(recall)\n",
    "    f1s.append(f1)\n",
    "\n",
    "    if epoch == EPOCHS - 1:\n",
    "        cm = confusion_matrix(all_targets, all_preds)\n",
    "\n",
    "    print(f\"\"\"\n",
    "    Epoch {epoch + 1} - Evaluation metrics\n",
    "        - Accuracy  : {accuracy}\n",
    "        - Precision : {precision}\n",
    "        - Recall    : {recall}\n",
    "        - F1        : {f1}\n",
    "    \"\"\")\n"
   ]
  },
  {
   "attachments": {},
   "cell_type": "markdown",
   "metadata": {},
   "source": [
    "## Evaluation"
   ]
  },
  {
   "attachments": {},
   "cell_type": "markdown",
   "metadata": {},
   "source": [
    "### Confusion Matrix"
   ]
  },
  {
   "cell_type": "code",
   "execution_count": 30,
   "metadata": {},
   "outputs": [],
   "source": [
    "cm = confusion_matrix(all_targets, all_preds)"
   ]
  },
  {
   "cell_type": "code",
   "execution_count": 44,
   "metadata": {},
   "outputs": [
    {
     "data": {
      "text/plain": [
       "Text(70.72222222222221, 0.5, 'Class')"
      ]
     },
     "execution_count": 44,
     "metadata": {},
     "output_type": "execute_result"
    },
    {
     "data": {
      "image/png": "[encoded data removed]",
      "text/plain": [
       "<Figure size 800x400 with 2 Axes>"
      ]
     },
     "metadata": {},
     "output_type": "display_data"
    }
   ],
   "source": [
    "import seaborn as sns\n",
    "import matplotlib.pyplot as plt\n",
    "\n",
    "fig, ax = plt.subplots(1, 1, figsize=(8,4))\n",
    "\n",
    "sns.heatmap(data=cm, ax=ax)\n",
    "\n",
    "ax.\n",
    "ax.set_xlabel(\"Class\")\n",
    "ax.set_ylabel(\"Class\")"
   ]
  },
  {
   "attachments": {},
   "cell_type": "markdown",
   "metadata": {},
   "source": [
    "### Accuracy/Recall/Precision"
   ]
  },
  {
   "cell_type": "code",
   "execution_count": 32,
   "metadata": {},
   "outputs": [
    {
     "data": {
      "image/png": "[encoded data removed]",
      "text/plain": [
       "<Figure size 800x400 with 1 Axes>"
      ]
     },
     "metadata": {},
     "output_type": "display_data"
    }
   ],
   "source": [
    "import matplotlib.pyplot as plt\n",
    "\n",
    "fig, ax = plt.subplots(1, 1, figsize=(8,4))\n",
    "\n",
    "ax.plot(accuracies, label=\"Accuracy\", marker=\".\")\n",
    "ax.plot(precisions, label=\"Precision\", marker=\".\")\n",
    "ax.plot(recalls, label=\"Recall\", marker=\".\")\n",
    "ax.plot(f1s, label=\"F1\", marker=\".\")\n",
    "\n",
    "ax.set_xticks(range(0, epoch+1))\n",
    "ax.set_xticklabels(range(1, epoch+2))\n",
    "ax.set_yticks(np.arange(0, 1.1, 0.1))\n",
    "ax.set_yticklabels(np.arange(0, 1.1, 0.1))\n",
    "ax.set_xlabel(\"Epoch\")\n",
    "ax.legend()\n",
    "ax.grid(alpha=0.1)\n",
    "plt.show()"
   ]
  },
  {
   "attachments": {},
   "cell_type": "markdown",
   "metadata": {},
   "source": [
    "### Loss"
   ]
  },
  {
   "cell_type": "code",
   "execution_count": 33,
   "metadata": {},
   "outputs": [
    {
     "data": {
      "image/png": "[encoded data removed]",
      "text/plain": [
       "<Figure size 800x400 with 1 Axes>"
      ]
     },
     "metadata": {},
     "output_type": "display_data"
    }
   ],
   "source": [
    "import matplotlib.pyplot as plt\n",
    "\n",
    "fig, ax = plt.subplots(1, 1, figsize=(8,4))\n",
    "\n",
    "ax.plot(training_losses, label=\"Training Loss\", marker=\".\", color=\"steelblue\")\n",
    "ax.plot(testing_losses, label=\"Evaluation Loss\", marker=\".\", color=\"orange\")\n",
    "\n",
    "ax.set_xticks(range(0, epoch+1))\n",
    "ax.set_xticklabels(range(1, epoch+2))\n",
    "ax.set_xlabel(\"Epoch\")\n",
    "ax.legend()\n",
    "ax.grid(alpha=0.1)\n",
    "plt.show()"
   ]
  },
  {
   "attachments": {},
   "cell_type": "markdown",
   "metadata": {},
   "source": [
    "## Save model"
   ]
  },
  {
   "cell_type": "code",
   "execution_count": 35,
   "metadata": {},
   "outputs": [],
   "source": [
    "from recognizer.utils.constants import ROOT_DIR\n",
    "\n",
    "MODELS_DIR = ROOT_DIR / \"models\"\n",
    "\n",
    "MODEL_PATH = MODELS_DIR / \"molchanov_3d_01.pth\"\n",
    "\n",
    "with open(MODEL_PATH, \"w\") as f:\n",
    "        f.write(\"\")\n",
    "\n",
    "torch.save(model, f=MODEL_PATH)"
   ]
  }
 ],
 "metadata": {
  "kernelspec": {
   "display_name": "recognizer-UlVdN89U-py3.9",
   "language": "python",
   "name": "python3"
  },
  "language_info": {
   "codemirror_mode": {
    "name": "ipython",
    "version": 3
   },
   "file_extension": ".py",
   "mimetype": "text/x-python",
   "name": "python",
   "nbconvert_exporter": "python",
   "pygments_lexer": "ipython3",
   "version": "3.10.11"
  },
  "orig_nbformat": 4
 },
 "nbformat": 4,
 "nbformat_minor": 2
}
